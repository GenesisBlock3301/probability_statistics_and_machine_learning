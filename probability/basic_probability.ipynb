{
 "cells": [
  {
   "cell_type": "code",
   "execution_count": 1,
   "metadata": {
    "collapsed": true,
    "ExecuteTime": {
     "end_time": "2023-06-05T06:06:26.259208865Z",
     "start_time": "2023-06-05T06:06:26.258863713Z"
    }
   },
   "outputs": [],
   "source": [
    "from collections import defaultdict"
   ]
  },
  {
   "cell_type": "code",
   "execution_count": 8,
   "outputs": [
    {
     "data": {
      "text/plain": "{(1, 1): 2,\n (1, 2): 3,\n (1, 3): 4,\n (1, 4): 5,\n (1, 5): 6,\n (1, 6): 7,\n (2, 1): 3,\n (2, 2): 4,\n (2, 3): 5,\n (2, 4): 6,\n (2, 5): 7,\n (2, 6): 8,\n (3, 1): 4,\n (3, 2): 5,\n (3, 3): 6,\n (3, 4): 7,\n (3, 5): 8,\n (3, 6): 9,\n (4, 1): 5,\n (4, 2): 6,\n (4, 3): 7,\n (4, 4): 8,\n (4, 5): 9,\n (4, 6): 10,\n (5, 1): 6,\n (5, 2): 7,\n (5, 3): 8,\n (5, 4): 9,\n (5, 5): 10,\n (5, 6): 11,\n (6, 1): 7,\n (6, 2): 8,\n (6, 3): 9,\n (6, 4): 10,\n (6, 5): 11,\n (6, 6): 12}"
     },
     "execution_count": 8,
     "metadata": {},
     "output_type": "execute_result"
    }
   ],
   "source": [
    "d = {(i,j): i+j for i in range(1,7) for j in range(1,7)}\n",
    "d"
   ],
   "metadata": {
    "collapsed": false,
    "ExecuteTime": {
     "end_time": "2023-06-05T06:10:13.680039275Z",
     "start_time": "2023-06-05T06:10:13.676613985Z"
    }
   }
  },
  {
   "cell_type": "code",
   "execution_count": 27,
   "outputs": [
    {
     "data": {
      "text/plain": "[(1, 6), (2, 5), (3, 4), (4, 3), (5, 2), (6, 1)]"
     },
     "execution_count": 27,
     "metadata": {},
     "output_type": "execute_result"
    }
   ],
   "source": [
    "dinv = defaultdict(list)\n",
    "for i,j in d.items():\n",
    "    dinv[j].append(i)\n",
    "dinv[7]"
   ],
   "metadata": {
    "collapsed": false,
    "ExecuteTime": {
     "end_time": "2023-06-05T06:28:08.491272884Z",
     "start_time": "2023-06-05T06:28:08.444413311Z"
    }
   }
  },
  {
   "cell_type": "code",
   "execution_count": 28,
   "outputs": [
    {
     "data": {
      "text/plain": "{2: 0.027777777777777776,\n 3: 0.05555555555555555,\n 4: 0.08333333333333333,\n 5: 0.1111111111111111,\n 6: 0.1388888888888889,\n 7: 0.16666666666666666,\n 8: 0.1388888888888889,\n 9: 0.1111111111111111,\n 10: 0.08333333333333333,\n 11: 0.05555555555555555,\n 12: 0.027777777777777776}"
     },
     "execution_count": 28,
     "metadata": {},
     "output_type": "execute_result"
    }
   ],
   "source": [
    "# probability measure each of this product\n",
    "x = {i:len(j)/36 for i,j in dinv.items()}\n",
    "x"
   ],
   "metadata": {
    "collapsed": false,
    "ExecuteTime": {
     "end_time": "2023-06-05T06:28:57.167831141Z",
     "start_time": "2023-06-05T06:28:57.123811881Z"
    }
   }
  }
 ],
 "metadata": {
  "kernelspec": {
   "name": "venv",
   "language": "python",
   "display_name": "venv"
  },
  "language_info": {
   "codemirror_mode": {
    "name": "ipython",
    "version": 2
   },
   "file_extension": ".py",
   "mimetype": "text/x-python",
   "name": "python",
   "nbconvert_exporter": "python",
   "pygments_lexer": "ipython2",
   "version": "2.7.6"
  }
 },
 "nbformat": 4,
 "nbformat_minor": 0
}
