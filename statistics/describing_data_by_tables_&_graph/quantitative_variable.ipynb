{
 "cells": [
  {
   "cell_type": "code",
   "execution_count": 1,
   "metadata": {
    "collapsed": true,
    "ExecuteTime": {
     "end_time": "2023-06-07T09:31:16.481399162Z",
     "start_time": "2023-06-07T09:31:16.078893770Z"
    }
   },
   "outputs": [],
   "source": [
    "import pandas as pd\n",
    "import matplotlib.pyplot as plt\n",
    "import numpy as np"
   ]
  },
  {
   "cell_type": "code",
   "execution_count": 2,
   "outputs": [
    {
     "data": {
      "text/plain": "[34,\n 67,\n 40,\n 72,\n 37,\n 33,\n 42,\n 62,\n 49,\n 32,\n 52,\n 40,\n 31,\n 19,\n 68,\n 55,\n 57,\n 54,\n 37,\n 32,\n 54,\n 38,\n 20,\n 50,\n 56,\n 48,\n 35,\n 52,\n 29,\n 56,\n 68,\n 65,\n 45,\n 44,\n 54,\n 39,\n 29,\n 56,\n 43,\n 42,\n 22,\n 30,\n 26,\n 20,\n 48,\n 29,\n 34,\n 27,\n 40,\n 28,\n 45,\n 21,\n 42,\n 38,\n 29,\n 26,\n 62,\n 35,\n 28,\n 24,\n 44,\n 46,\n 39,\n 29,\n 27,\n 40,\n 22,\n 38,\n 42,\n 39,\n 26,\n 48,\n 39,\n 25,\n 34,\n 56,\n 31,\n 60,\n 32,\n 24,\n 51,\n 69,\n 28,\n 27,\n 38,\n 56,\n 36,\n 25,\n 46,\n 50,\n 36,\n 58,\n 39,\n 57,\n 55,\n 42,\n 49,\n 38,\n 49,\n 36,\n 48,\n 44]"
     },
     "execution_count": 2,
     "metadata": {},
     "output_type": "execute_result"
    }
   ],
   "source": [
    "data = \"\"\"34,67,40,72,37,33,42,62,49,32,52,40,31,19,68,55,57,54,37,32,\n",
    "54,38,20,50,56,48,35,52,29,56,68,65,45,44,54,39,29,56,43,42,\n",
    "22,30,26,20,48,29,34,27,40,28,45,21,42,38,29,26,62,35,28,24,\n",
    "44,46,39,29,27,40,22,38,42,39,26,48,39,25,34,56,31,60,32,24,\n",
    "51,69,28,27,38,56,36,25,46,50,36,58,39,57,55,42,49,38,49,36,\n",
    "48,44\"\"\"\n",
    "data = [int(x) for x in data.split(\",\")]\n",
    "data"
   ],
   "metadata": {
    "collapsed": false,
    "ExecuteTime": {
     "end_time": "2023-06-07T09:31:18.044293803Z",
     "start_time": "2023-06-07T09:31:18.039012551Z"
    }
   }
  },
  {
   "cell_type": "code",
   "execution_count": 3,
   "outputs": [
    {
     "data": {
      "text/plain": "(array([ 4.,  6., 14.,  7., 10., 14., 11.,  9.,  5., 12.,  2.,  3.,  4.]),\n array([18., 22., 26., 30., 34., 38., 42., 46., 50., 54., 58., 62., 66.,\n        70.]),\n <BarContainer object of 13 artists>)"
     },
     "execution_count": 3,
     "metadata": {},
     "output_type": "execute_result"
    },
    {
     "data": {
      "text/plain": "<Figure size 640x480 with 1 Axes>",
      "image/png": "[encoded data removed]"
     },
     "metadata": {},
     "output_type": "display_data"
    }
   ],
   "source": [
    "plt.hist(data, bins=list(range(18,73,4)))"
   ],
   "metadata": {
    "collapsed": false,
    "ExecuteTime": {
     "end_time": "2023-06-07T09:31:20.885789881Z",
     "start_time": "2023-06-07T09:31:20.778695181Z"
    }
   }
  },
  {
   "cell_type": "code",
   "execution_count": 17,
   "outputs": [
    {
     "name": "stdout",
     "output_type": "stream",
     "text": [
      "['18-22', '23-27', '28-32', '33-37', '38-42', '43-47', '48-52', '53-57', '58-62', '63-67', '68-72']\n",
      "[6, 10, 14, 11, 19, 8, 12, 12, 4, 2, 4]\n"
     ]
    }
   ],
   "source": [
    "interval_width = 4\n",
    "_min = 18\n",
    "_max = _min + interval_width\n",
    "data_set = dict()\n",
    "bins = 11\n",
    "for item in range(bins):\n",
    "    data_set[f\"{_min}-{_max}\"] = len([x for x in data if _min <= x <= _max])\n",
    "    _min += interval_width + 1\n",
    "    _max += interval_width + 1\n",
    "\n",
    "fq_dist = {\n",
    "    \"interval\": [],\n",
    "    \"frequency\": []\n",
    "}\n",
    "\n",
    "for item in data_set.items():\n",
    "    fq_dist[\"interval\"].append(item[0])\n",
    "    fq_dist[\"frequency\"].append(item[1])\n"
   ],
   "metadata": {
    "collapsed": false,
    "ExecuteTime": {
     "end_time": "2023-06-07T09:36:25.527491491Z",
     "start_time": "2023-06-07T09:36:25.482360450Z"
    }
   }
  },
  {
   "cell_type": "code",
   "execution_count": 18,
   "outputs": [
    {
     "name": "stdout",
     "output_type": "stream",
     "text": [
      "   interval  frequency\n",
      "0     18-22          6\n",
      "1     23-27         10\n",
      "2     28-32         14\n",
      "3     33-37         11\n",
      "4     38-42         19\n",
      "5     43-47          8\n",
      "6     48-52         12\n",
      "7     53-57         12\n",
      "8     58-62          4\n",
      "9     63-67          2\n",
      "10    68-72          4\n"
     ]
    }
   ],
   "source": [
    "df = pd.DataFrame(fq_dist)\n",
    "print(df)"
   ],
   "metadata": {
    "collapsed": false,
    "ExecuteTime": {
     "end_time": "2023-06-07T09:37:37.955541065Z",
     "start_time": "2023-06-07T09:37:37.910249520Z"
    }
   }
  },
  {
   "cell_type": "code",
   "execution_count": 32,
   "outputs": [
    {
     "name": "stdout",
     "output_type": "stream",
     "text": [
      "   interval  frequency  percentage  cumulative_percentage\n",
      "0     18-22          6         5.9                   5.88\n",
      "1     23-27         10         9.8                  15.68\n",
      "2     28-32         14        13.7                  29.41\n",
      "3     33-37         11        10.8                  40.19\n",
      "4     38-42         19        18.6                  58.82\n",
      "5     43-47          8         7.8                  66.66\n",
      "6     48-52         12        11.8                  78.42\n",
      "7     53-57         12        11.8                  90.18\n",
      "8     58-62          4         3.9                  94.10\n",
      "9     63-67          2         2.0                  96.06\n",
      "10    68-72          4         3.9                  99.98\n"
     ]
    }
   ],
   "source": [
    "df[\"percentage\"] = (df[\"frequency\"]/sum(df[\"frequency\"]))*100\n",
    "df[\"percentage\"] = round(df[\"percentage\"],1)\n",
    "print(df)"
   ],
   "metadata": {
    "collapsed": false,
    "ExecuteTime": {
     "end_time": "2023-06-07T09:46:34.475889179Z",
     "start_time": "2023-06-07T09:46:34.472055029Z"
    }
   }
  },
  {
   "cell_type": "code",
   "execution_count": 33,
   "outputs": [
    {
     "data": {
      "text/plain": "   interval  frequency  percentage  cumulative_percentage\n0     18-22          6         5.9                    5.9\n1     23-27         10         9.8                   15.7\n2     28-32         14        13.7                   29.4\n3     33-37         11        10.8                   40.2\n4     38-42         19        18.6                   58.8\n5     43-47          8         7.8                   66.6\n6     48-52         12        11.8                   78.4\n7     53-57         12        11.8                   90.2\n8     58-62          4         3.9                   94.1\n9     63-67          2         2.0                   96.1\n10    68-72          4         3.9                  100.0",
      "text/html": "<div>\n<style scoped>\n    .dataframe tbody tr th:only-of-type {\n        vertical-align: middle;\n    }\n\n    .dataframe tbody tr th {\n        vertical-align: top;\n    }\n\n    .dataframe thead th {\n        text-align: right;\n    }\n</style>\n<table border=\"1\" class=\"dataframe\">\n  <thead>\n    <tr style=\"text-align: right;\">\n      <th></th>\n      <th>interval</th>\n      <th>frequency</th>\n      <th>percentage</th>\n      <th>cumulative_percentage</th>\n    </tr>\n  </thead>\n  <tbody>\n    <tr>\n      <th>0</th>\n      <td>18-22</td>\n      <td>6</td>\n      <td>5.9</td>\n      <td>5.9</td>\n    </tr>\n    <tr>\n      <th>1</th>\n      <td>23-27</td>\n      <td>10</td>\n      <td>9.8</td>\n      <td>15.7</td>\n    </tr>\n    <tr>\n      <th>2</th>\n      <td>28-32</td>\n      <td>14</td>\n      <td>13.7</td>\n      <td>29.4</td>\n    </tr>\n    <tr>\n      <th>3</th>\n      <td>33-37</td>\n      <td>11</td>\n      <td>10.8</td>\n      <td>40.2</td>\n    </tr>\n    <tr>\n      <th>4</th>\n      <td>38-42</td>\n      <td>19</td>\n      <td>18.6</td>\n      <td>58.8</td>\n    </tr>\n    <tr>\n      <th>5</th>\n      <td>43-47</td>\n      <td>8</td>\n      <td>7.8</td>\n      <td>66.6</td>\n    </tr>\n    <tr>\n      <th>6</th>\n      <td>48-52</td>\n      <td>12</td>\n      <td>11.8</td>\n      <td>78.4</td>\n    </tr>\n    <tr>\n      <th>7</th>\n      <td>53-57</td>\n      <td>12</td>\n      <td>11.8</td>\n      <td>90.2</td>\n    </tr>\n    <tr>\n      <th>8</th>\n      <td>58-62</td>\n      <td>4</td>\n      <td>3.9</td>\n      <td>94.1</td>\n    </tr>\n    <tr>\n      <th>9</th>\n      <td>63-67</td>\n      <td>2</td>\n      <td>2.0</td>\n      <td>96.1</td>\n    </tr>\n    <tr>\n      <th>10</th>\n      <td>68-72</td>\n      <td>4</td>\n      <td>3.9</td>\n      <td>100.0</td>\n    </tr>\n  </tbody>\n</table>\n</div>"
     },
     "execution_count": 33,
     "metadata": {},
     "output_type": "execute_result"
    }
   ],
   "source": [
    "df[\"cumulative_percentage\"] = np.cumsum(df[\"percentage\"])\n",
    "df"
   ],
   "metadata": {
    "collapsed": false,
    "ExecuteTime": {
     "end_time": "2023-06-07T09:46:37.212171153Z",
     "start_time": "2023-06-07T09:46:37.208797416Z"
    }
   }
  },
  {
   "cell_type": "code",
   "execution_count": 51,
   "outputs": [
    {
     "name": "stdout",
     "output_type": "stream",
     "text": [
      "5.9\n",
      "15.700000000000001\n",
      "29.4\n",
      "40.2\n",
      "58.800000000000004\n",
      "66.60000000000001\n",
      "78.4\n",
      "90.2\n",
      "94.10000000000001\n",
      "96.10000000000001\n"
     ]
    }
   ],
   "source": [
    "# Find cumulative sum\n",
    "arr = list(df.percentage)\n",
    "lower = arr[0]\n",
    "upper = 0\n",
    "cp = lower + upper\n",
    "for i in arr[1:]:\n",
    "    cp = lower + upper\n",
    "    print(cp)\n",
    "    lower = i\n",
    "    upper = cp"
   ],
   "metadata": {
    "collapsed": false,
    "ExecuteTime": {
     "end_time": "2023-06-07T10:05:39.889104821Z",
     "start_time": "2023-06-07T10:05:39.843994013Z"
    }
   }
  },
  {
   "cell_type": "code",
   "execution_count": 59,
   "outputs": [
    {
     "data": {
      "text/plain": "<Figure size 640x480 with 1 Axes>",
      "image/png": "[encoded data removed]"
     },
     "metadata": {},
     "output_type": "display_data"
    }
   ],
   "source": [
    "plt.bar(df[\"interval\"], df[\"frequency\"])\n",
    "plt.show()"
   ],
   "metadata": {
    "collapsed": false,
    "ExecuteTime": {
     "end_time": "2023-06-07T10:11:09.558255779Z",
     "start_time": "2023-06-07T10:11:09.466204909Z"
    }
   }
  }
 ],
 "metadata": {
  "kernelspec": {
   "name": "venv",
   "language": "python",
   "display_name": "venv"
  },
  "language_info": {
   "codemirror_mode": {
    "name": "ipython",
    "version": 2
   },
   "file_extension": ".py",
   "mimetype": "text/x-python",
   "name": "python",
   "nbconvert_exporter": "python",
   "pygments_lexer": "ipython2",
   "version": "2.7.6"
  }
 },
 "nbformat": 4,
 "nbformat_minor": 0
}
