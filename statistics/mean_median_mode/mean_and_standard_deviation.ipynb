{
 "cells": [
  {
   "cell_type": "code",
   "execution_count": 40,
   "metadata": {
    "collapsed": true,
    "ExecuteTime": {
     "end_time": "2023-06-03T02:47:53.444037102Z",
     "start_time": "2023-06-03T02:47:53.403008340Z"
    }
   },
   "outputs": [],
   "source": [
    "import seaborn as sns\n",
    "import numpy as np\n",
    "from statsmodels import robust\n"
   ]
  },
  {
   "cell_type": "code",
   "execution_count": 22,
   "outputs": [
    {
     "data": {
      "text/plain": "     sepal_length  sepal_width  petal_length  petal_width    species\n0             5.1          3.5           1.4          0.2     setosa\n1             4.9          3.0           1.4          0.2     setosa\n2             4.7          3.2           1.3          0.2     setosa\n3             4.6          3.1           1.5          0.2     setosa\n4             5.0          3.6           1.4          0.2     setosa\n..            ...          ...           ...          ...        ...\n145           6.7          3.0           5.2          2.3  virginica\n146           6.3          2.5           5.0          1.9  virginica\n147           6.5          3.0           5.2          2.0  virginica\n148           6.2          3.4           5.4          2.3  virginica\n149           5.9          3.0           5.1          1.8  virginica\n\n[150 rows x 5 columns]",
      "text/html": "<div>\n<style scoped>\n    .dataframe tbody tr th:only-of-type {\n        vertical-align: middle;\n    }\n\n    .dataframe tbody tr th {\n        vertical-align: top;\n    }\n\n    .dataframe thead th {\n        text-align: right;\n    }\n</style>\n<table border=\"1\" class=\"dataframe\">\n  <thead>\n    <tr style=\"text-align: right;\">\n      <th></th>\n      <th>sepal_length</th>\n      <th>sepal_width</th>\n      <th>petal_length</th>\n      <th>petal_width</th>\n      <th>species</th>\n    </tr>\n  </thead>\n  <tbody>\n    <tr>\n      <th>0</th>\n      <td>5.1</td>\n      <td>3.5</td>\n      <td>1.4</td>\n      <td>0.2</td>\n      <td>setosa</td>\n    </tr>\n    <tr>\n      <th>1</th>\n      <td>4.9</td>\n      <td>3.0</td>\n      <td>1.4</td>\n      <td>0.2</td>\n      <td>setosa</td>\n    </tr>\n    <tr>\n      <th>2</th>\n      <td>4.7</td>\n      <td>3.2</td>\n      <td>1.3</td>\n      <td>0.2</td>\n      <td>setosa</td>\n    </tr>\n    <tr>\n      <th>3</th>\n      <td>4.6</td>\n      <td>3.1</td>\n      <td>1.5</td>\n      <td>0.2</td>\n      <td>setosa</td>\n    </tr>\n    <tr>\n      <th>4</th>\n      <td>5.0</td>\n      <td>3.6</td>\n      <td>1.4</td>\n      <td>0.2</td>\n      <td>setosa</td>\n    </tr>\n    <tr>\n      <th>...</th>\n      <td>...</td>\n      <td>...</td>\n      <td>...</td>\n      <td>...</td>\n      <td>...</td>\n    </tr>\n    <tr>\n      <th>145</th>\n      <td>6.7</td>\n      <td>3.0</td>\n      <td>5.2</td>\n      <td>2.3</td>\n      <td>virginica</td>\n    </tr>\n    <tr>\n      <th>146</th>\n      <td>6.3</td>\n      <td>2.5</td>\n      <td>5.0</td>\n      <td>1.9</td>\n      <td>virginica</td>\n    </tr>\n    <tr>\n      <th>147</th>\n      <td>6.5</td>\n      <td>3.0</td>\n      <td>5.2</td>\n      <td>2.0</td>\n      <td>virginica</td>\n    </tr>\n    <tr>\n      <th>148</th>\n      <td>6.2</td>\n      <td>3.4</td>\n      <td>5.4</td>\n      <td>2.3</td>\n      <td>virginica</td>\n    </tr>\n    <tr>\n      <th>149</th>\n      <td>5.9</td>\n      <td>3.0</td>\n      <td>5.1</td>\n      <td>1.8</td>\n      <td>virginica</td>\n    </tr>\n  </tbody>\n</table>\n<p>150 rows × 5 columns</p>\n</div>"
     },
     "execution_count": 22,
     "metadata": {},
     "output_type": "execute_result"
    }
   ],
   "source": [
    "iris = sns.load_dataset(\"iris\")\n",
    "iris"
   ],
   "metadata": {
    "collapsed": false,
    "ExecuteTime": {
     "end_time": "2023-06-03T02:34:46.806388762Z",
     "start_time": "2023-06-03T02:34:46.789308651Z"
    }
   }
  },
  {
   "cell_type": "code",
   "execution_count": 16,
   "outputs": [
    {
     "name": "stdout",
     "output_type": "stream",
     "text": [
      "Mean\n",
      "1.4620000000000002\n",
      "2.4137254901960787\n",
      "5.5520000000000005\n",
      "4.26\n",
      "\n",
      " Std\n",
      "0.17191858538273283\n",
      "0.546347874526844\n",
      "0.4651881339845203\n"
     ]
    }
   ],
   "source": [
    "iris_setosa = iris.loc[iris[\"species\"] == \"setosa\"]\n",
    "iris_versicolor = iris.loc[iris[\"species\"] == \"versicolor\"]\n",
    "iris_verginica = iris.loc[iris[\"species\"] == \"virginica\"]\n",
    "print(\"Mean\")\n",
    "print(np.mean(iris_setosa[\"petal_length\"]))\n",
    "#  Mean with an outlier\n",
    "print(np.mean(np.append(iris_setosa[\"petal_length\"],50)))\n",
    "print(np.mean(iris_verginica[\"petal_length\"]))\n",
    "print(np.mean(iris_versicolor[\"petal_length\"]))\n",
    "\n",
    "print(\"\\n Std\")\n",
    "print(np.std(iris_setosa[\"petal_length\"]))\n",
    "print(np.std(iris_verginica[\"petal_length\"]))\n",
    "print(np.std(iris_versicolor[\"petal_length\"]))"
   ],
   "metadata": {
    "collapsed": false,
    "ExecuteTime": {
     "end_time": "2023-06-03T02:21:04.312313088Z",
     "start_time": "2023-06-03T02:21:04.268895512Z"
    }
   }
  },
  {
   "cell_type": "code",
   "execution_count": 37,
   "outputs": [
    {
     "name": "stdout",
     "output_type": "stream",
     "text": [
      "\n",
      "Median absolute deviation: \n"
     ]
    },
    {
     "data": {
      "text/plain": "0     1.4\n1     1.4\n2     1.3\n3     1.5\n4     1.4\n5     1.7\n6     1.4\n7     1.5\n8     1.4\n9     1.5\n10    1.5\n11    1.6\n12    1.4\n13    1.1\n14    1.2\n15    1.5\n16    1.3\n17    1.4\n18    1.7\n19    1.5\n20    1.7\n21    1.5\n22    1.0\n23    1.7\n24    1.9\n25    1.6\n26    1.6\n27    1.5\n28    1.4\n29    1.6\n30    1.6\n31    1.5\n32    1.5\n33    1.4\n34    1.5\n35    1.2\n36    1.3\n37    1.4\n38    1.3\n39    1.5\n40    1.3\n41    1.3\n42    1.3\n43    1.6\n44    1.9\n45    1.4\n46    1.6\n47    1.4\n48    1.5\n49    1.4\nName: petal_length, dtype: float64"
     },
     "execution_count": 37,
     "metadata": {},
     "output_type": "execute_result"
    }
   ],
   "source": [
    "print(\"\\nMedian absolute deviation: \")\n",
    "median = np.median(iris_setosa)\n",
    "difference = abs(iris_setosa - median)\n",
    "mad = np.median(difference)\n",
    "# mad\n",
    "iris_setosa"
   ],
   "metadata": {
    "collapsed": false,
    "ExecuteTime": {
     "end_time": "2023-06-03T02:44:46.602665381Z",
     "start_time": "2023-06-03T02:44:46.598012599Z"
    }
   }
  },
  {
   "cell_type": "code",
   "execution_count": 39,
   "outputs": [
    {
     "name": "stdout",
     "output_type": "stream",
     "text": [
      "\n",
      "Median absolute deviation:\n",
      "0.14826022185056031\n",
      "0.6671709983275211\n",
      "0.5189107764769602\n"
     ]
    }
   ],
   "source": [
    "print(\"\\nMedian absolute deviation:\")\n",
    "print(robust.mad(iris_setosa))\n",
    "print(robust.mad(iris_verginica[\"petal_length\"]))\n",
    "print(robust.mad(iris_versicolor[\"petal_length\"]))"
   ],
   "metadata": {
    "collapsed": false,
    "ExecuteTime": {
     "end_time": "2023-06-03T02:45:42.137443924Z",
     "start_time": "2023-06-03T02:45:42.088196746Z"
    }
   }
  }
 ],
 "metadata": {
  "kernelspec": {
   "name": "venv",
   "language": "python",
   "display_name": "venv"
  },
  "language_info": {
   "codemirror_mode": {
    "name": "ipython",
    "version": 2
   },
   "file_extension": ".py",
   "mimetype": "text/x-python",
   "name": "python",
   "nbconvert_exporter": "python",
   "pygments_lexer": "ipython2",
   "version": "2.7.6"
  }
 },
 "nbformat": 4,
 "nbformat_minor": 0
}
