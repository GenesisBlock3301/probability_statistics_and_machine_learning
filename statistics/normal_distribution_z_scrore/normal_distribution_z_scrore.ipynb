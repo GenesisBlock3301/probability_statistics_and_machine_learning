{
 "cells": [
  {
   "cell_type": "code",
   "execution_count": 3,
   "metadata": {
    "collapsed": true,
    "ExecuteTime": {
     "end_time": "2023-05-27T02:17:54.001646072Z",
     "start_time": "2023-05-27T02:17:53.960308039Z"
    }
   },
   "outputs": [],
   "source": [
    "import pandas as pd\n",
    "import seaborn as sn"
   ]
  },
  {
   "cell_type": "code",
   "execution_count": 20,
   "outputs": [
    {
     "data": {
      "text/plain": "         height\n0      65.78331\n1      71.51521\n2      69.39874\n3      68.21660\n4      67.78781\n...         ...\n24995  69.50215\n24996  64.54826\n24997  64.69855\n24998  67.52918\n24999  68.87761\n\n[25000 rows x 1 columns]",
      "text/html": "<div>\n<style scoped>\n    .dataframe tbody tr th:only-of-type {\n        vertical-align: middle;\n    }\n\n    .dataframe tbody tr th {\n        vertical-align: top;\n    }\n\n    .dataframe thead th {\n        text-align: right;\n    }\n</style>\n<table border=\"1\" class=\"dataframe\">\n  <thead>\n    <tr style=\"text-align: right;\">\n      <th></th>\n      <th>height</th>\n    </tr>\n  </thead>\n  <tbody>\n    <tr>\n      <th>0</th>\n      <td>65.78331</td>\n    </tr>\n    <tr>\n      <th>1</th>\n      <td>71.51521</td>\n    </tr>\n    <tr>\n      <th>2</th>\n      <td>69.39874</td>\n    </tr>\n    <tr>\n      <th>3</th>\n      <td>68.21660</td>\n    </tr>\n    <tr>\n      <th>4</th>\n      <td>67.78781</td>\n    </tr>\n    <tr>\n      <th>...</th>\n      <td>...</td>\n    </tr>\n    <tr>\n      <th>24995</th>\n      <td>69.50215</td>\n    </tr>\n    <tr>\n      <th>24996</th>\n      <td>64.54826</td>\n    </tr>\n    <tr>\n      <th>24997</th>\n      <td>64.69855</td>\n    </tr>\n    <tr>\n      <th>24998</th>\n      <td>67.52918</td>\n    </tr>\n    <tr>\n      <th>24999</th>\n      <td>68.87761</td>\n    </tr>\n  </tbody>\n</table>\n<p>25000 rows × 1 columns</p>\n</div>"
     },
     "execution_count": 20,
     "metadata": {},
     "output_type": "execute_result"
    }
   ],
   "source": [
    "df = pd.read_csv(\"SOCR-HeightWeight.csv\", names=[\"index\", \"height\", \"weight\"], skiprows=[0])\n",
    "df = df.drop([\"index\",\"weight\"], axis=1)\n",
    "df"
   ],
   "metadata": {
    "collapsed": false,
    "ExecuteTime": {
     "end_time": "2023-05-27T02:24:51.958467061Z",
     "start_time": "2023-05-27T02:24:51.911931316Z"
    }
   }
  },
  {
   "cell_type": "code",
   "execution_count": 22,
   "outputs": [
    {
     "data": {
      "text/plain": "count    25000.000000\nmean        67.993114\nstd          1.901679\nmin         60.278360\n25%         66.704397\n50%         67.995700\n75%         69.272958\nmax         75.152800\nName: height, dtype: float64"
     },
     "execution_count": 22,
     "metadata": {},
     "output_type": "execute_result"
    }
   ],
   "source": [
    "df.height.describe()"
   ],
   "metadata": {
    "collapsed": false,
    "ExecuteTime": {
     "end_time": "2023-05-27T02:25:33.285939476Z",
     "start_time": "2023-05-27T02:25:33.246423798Z"
    }
   }
  },
  {
   "cell_type": "code",
   "execution_count": 25,
   "outputs": [
    {
     "data": {
      "text/plain": "<AxesSubplot: xlabel='height', ylabel='Count'>"
     },
     "execution_count": 25,
     "metadata": {},
     "output_type": "execute_result"
    },
    {
     "data": {
      "text/plain": "<Figure size 640x480 with 1 Axes>",
      "image/png": "[encoded data removed]"
     },
     "metadata": {},
     "output_type": "display_data"
    }
   ],
   "source": [
    "sn.histplot(df.height, kde=True)"
   ],
   "metadata": {
    "collapsed": false,
    "ExecuteTime": {
     "end_time": "2023-05-27T02:27:32.909691593Z",
     "start_time": "2023-05-27T02:27:32.457656716Z"
    }
   }
  },
  {
   "cell_type": "code",
   "execution_count": 27,
   "outputs": [
    {
     "data": {
      "text/plain": "67.99311359679999"
     },
     "execution_count": 27,
     "metadata": {},
     "output_type": "execute_result"
    }
   ],
   "source": [
    "# to remove outlier, we need figure out the mean of the dataset\n",
    "mean = df.height.mean()\n",
    "mean"
   ],
   "metadata": {
    "collapsed": false,
    "ExecuteTime": {
     "end_time": "2023-05-27T02:29:54.493862440Z",
     "start_time": "2023-05-27T02:29:54.453901272Z"
    }
   }
  },
  {
   "cell_type": "code",
   "execution_count": 29,
   "outputs": [
    {
     "data": {
      "text/plain": "1.9016787712056105"
     },
     "execution_count": 29,
     "metadata": {},
     "output_type": "execute_result"
    }
   ],
   "source": [
    "standard_deviation = df.height.std()\n",
    "standard_deviation"
   ],
   "metadata": {
    "collapsed": false,
    "ExecuteTime": {
     "end_time": "2023-05-27T02:30:27.345042815Z",
     "start_time": "2023-05-27T02:30:27.330642069Z"
    }
   }
  },
  {
   "cell_type": "code",
   "execution_count": 34,
   "outputs": [
    {
     "data": {
      "text/plain": "62.288077283183156"
     },
     "execution_count": 34,
     "metadata": {},
     "output_type": "execute_result"
    }
   ],
   "source": [
    "min = mean - 3*standard_deviation\n",
    "min"
   ],
   "metadata": {
    "collapsed": false,
    "ExecuteTime": {
     "end_time": "2023-05-27T03:53:13.696961082Z",
     "start_time": "2023-05-27T03:53:13.693162676Z"
    }
   }
  },
  {
   "cell_type": "code",
   "execution_count": 38,
   "outputs": [
    {
     "data": {
      "text/plain": "73.69814991041682"
     },
     "execution_count": 38,
     "metadata": {},
     "output_type": "execute_result"
    }
   ],
   "source": [
    "max = mean + 3*standard_deviation\n",
    "max"
   ],
   "metadata": {
    "collapsed": false,
    "ExecuteTime": {
     "end_time": "2023-05-27T03:54:51.403321365Z",
     "start_time": "2023-05-27T03:54:51.364643088Z"
    }
   }
  },
  {
   "cell_type": "code",
   "execution_count": 39,
   "outputs": [
    {
     "data": {
      "text/plain": "count    25000.000000\nmean        67.993114\nstd          1.901679\nmin         60.278360\n25%         66.704397\n50%         67.995700\n75%         69.272958\nmax         75.152800\nName: height, dtype: float64"
     },
     "execution_count": 39,
     "metadata": {},
     "output_type": "execute_result"
    }
   ],
   "source": [
    "df.height.describe()"
   ],
   "metadata": {
    "collapsed": false,
    "ExecuteTime": {
     "end_time": "2023-05-27T03:55:00.319638521Z",
     "start_time": "2023-05-27T03:55:00.310301547Z"
    }
   }
  },
  {
   "cell_type": "code",
   "execution_count": 56,
   "outputs": [
    {
     "data": {
      "text/plain": "         height    zscore\n0      65.78331 -1.162028\n1      71.51521  1.852099\n2      69.39874  0.739150\n3      68.21660  0.117521\n4      67.78781 -0.107959\n...         ...       ...\n24995  69.50215  0.793529\n24996  64.54826 -1.811480\n24997  64.69855 -1.732450\n24998  67.52918 -0.243960\n24999  68.87761  0.465113\n\n[24949 rows x 2 columns]",
      "text/html": "<div>\n<style scoped>\n    .dataframe tbody tr th:only-of-type {\n        vertical-align: middle;\n    }\n\n    .dataframe tbody tr th {\n        vertical-align: top;\n    }\n\n    .dataframe thead th {\n        text-align: right;\n    }\n</style>\n<table border=\"1\" class=\"dataframe\">\n  <thead>\n    <tr style=\"text-align: right;\">\n      <th></th>\n      <th>height</th>\n      <th>zscore</th>\n    </tr>\n  </thead>\n  <tbody>\n    <tr>\n      <th>0</th>\n      <td>65.78331</td>\n      <td>-1.162028</td>\n    </tr>\n    <tr>\n      <th>1</th>\n      <td>71.51521</td>\n      <td>1.852099</td>\n    </tr>\n    <tr>\n      <th>2</th>\n      <td>69.39874</td>\n      <td>0.739150</td>\n    </tr>\n    <tr>\n      <th>3</th>\n      <td>68.21660</td>\n      <td>0.117521</td>\n    </tr>\n    <tr>\n      <th>4</th>\n      <td>67.78781</td>\n      <td>-0.107959</td>\n    </tr>\n    <tr>\n      <th>...</th>\n      <td>...</td>\n      <td>...</td>\n    </tr>\n    <tr>\n      <th>24995</th>\n      <td>69.50215</td>\n      <td>0.793529</td>\n    </tr>\n    <tr>\n      <th>24996</th>\n      <td>64.54826</td>\n      <td>-1.811480</td>\n    </tr>\n    <tr>\n      <th>24997</th>\n      <td>64.69855</td>\n      <td>-1.732450</td>\n    </tr>\n    <tr>\n      <th>24998</th>\n      <td>67.52918</td>\n      <td>-0.243960</td>\n    </tr>\n    <tr>\n      <th>24999</th>\n      <td>68.87761</td>\n      <td>0.465113</td>\n    </tr>\n  </tbody>\n</table>\n<p>24949 rows × 2 columns</p>\n</div>"
     },
     "execution_count": 56,
     "metadata": {},
     "output_type": "execute_result"
    }
   ],
   "source": [
    "no_outlier = df[(df.height >= min)&(df.height <=max)]\n",
    "no_outlier"
   ],
   "metadata": {
    "collapsed": false,
    "ExecuteTime": {
     "end_time": "2023-05-27T04:13:04.590087263Z",
     "start_time": "2023-05-27T04:13:04.545478868Z"
    }
   }
  },
  {
   "cell_type": "code",
   "execution_count": 47,
   "outputs": [
    {
     "data": {
      "text/plain": "     height\n0  65.78331\n1  71.51521\n2  69.39874\n3  68.21660\n4  67.78781",
      "text/html": "<div>\n<style scoped>\n    .dataframe tbody tr th:only-of-type {\n        vertical-align: middle;\n    }\n\n    .dataframe tbody tr th {\n        vertical-align: top;\n    }\n\n    .dataframe thead th {\n        text-align: right;\n    }\n</style>\n<table border=\"1\" class=\"dataframe\">\n  <thead>\n    <tr style=\"text-align: right;\">\n      <th></th>\n      <th>height</th>\n    </tr>\n  </thead>\n  <tbody>\n    <tr>\n      <th>0</th>\n      <td>65.78331</td>\n    </tr>\n    <tr>\n      <th>1</th>\n      <td>71.51521</td>\n    </tr>\n    <tr>\n      <th>2</th>\n      <td>69.39874</td>\n    </tr>\n    <tr>\n      <th>3</th>\n      <td>68.21660</td>\n    </tr>\n    <tr>\n      <th>4</th>\n      <td>67.78781</td>\n    </tr>\n  </tbody>\n</table>\n</div>"
     },
     "execution_count": 47,
     "metadata": {},
     "output_type": "execute_result"
    }
   ],
   "source": [
    "df.head()"
   ],
   "metadata": {
    "collapsed": false,
    "ExecuteTime": {
     "end_time": "2023-05-27T04:06:37.648088062Z",
     "start_time": "2023-05-27T04:06:37.632577188Z"
    }
   }
  },
  {
   "cell_type": "code",
   "execution_count": 52,
   "outputs": [
    {
     "data": {
      "text/plain": "     height    zscore\n0  65.78331 -1.162028\n1  71.51521  1.852099\n2  69.39874  0.739150\n3  68.21660  0.117521\n4  67.78781 -0.107959",
      "text/html": "<div>\n<style scoped>\n    .dataframe tbody tr th:only-of-type {\n        vertical-align: middle;\n    }\n\n    .dataframe tbody tr th {\n        vertical-align: top;\n    }\n\n    .dataframe thead th {\n        text-align: right;\n    }\n</style>\n<table border=\"1\" class=\"dataframe\">\n  <thead>\n    <tr style=\"text-align: right;\">\n      <th></th>\n      <th>height</th>\n      <th>zscore</th>\n    </tr>\n  </thead>\n  <tbody>\n    <tr>\n      <th>0</th>\n      <td>65.78331</td>\n      <td>-1.162028</td>\n    </tr>\n    <tr>\n      <th>1</th>\n      <td>71.51521</td>\n      <td>1.852099</td>\n    </tr>\n    <tr>\n      <th>2</th>\n      <td>69.39874</td>\n      <td>0.739150</td>\n    </tr>\n    <tr>\n      <th>3</th>\n      <td>68.21660</td>\n      <td>0.117521</td>\n    </tr>\n    <tr>\n      <th>4</th>\n      <td>67.78781</td>\n      <td>-0.107959</td>\n    </tr>\n  </tbody>\n</table>\n</div>"
     },
     "execution_count": 52,
     "metadata": {},
     "output_type": "execute_result"
    }
   ],
   "source": [
    "df[\"zscore\"] = (df.height-df.height.mean())/df.height.std()\n",
    "df.head()"
   ],
   "metadata": {
    "collapsed": false,
    "ExecuteTime": {
     "end_time": "2023-05-27T04:11:01.018945044Z",
     "start_time": "2023-05-27T04:11:00.976578071Z"
    }
   }
  },
  {
   "cell_type": "code",
   "execution_count": 58,
   "outputs": [
    {
     "data": {
      "text/plain": "         height    zscore\n0      65.78331 -1.162028\n1      71.51521  1.852099\n2      69.39874  0.739150\n3      68.21660  0.117521\n4      67.78781 -0.107959\n...         ...       ...\n24995  69.50215  0.793529\n24996  64.54826 -1.811480\n24997  64.69855 -1.732450\n24998  67.52918 -0.243960\n24999  68.87761  0.465113\n\n[24949 rows x 2 columns]",
      "text/html": "<div>\n<style scoped>\n    .dataframe tbody tr th:only-of-type {\n        vertical-align: middle;\n    }\n\n    .dataframe tbody tr th {\n        vertical-align: top;\n    }\n\n    .dataframe thead th {\n        text-align: right;\n    }\n</style>\n<table border=\"1\" class=\"dataframe\">\n  <thead>\n    <tr style=\"text-align: right;\">\n      <th></th>\n      <th>height</th>\n      <th>zscore</th>\n    </tr>\n  </thead>\n  <tbody>\n    <tr>\n      <th>0</th>\n      <td>65.78331</td>\n      <td>-1.162028</td>\n    </tr>\n    <tr>\n      <th>1</th>\n      <td>71.51521</td>\n      <td>1.852099</td>\n    </tr>\n    <tr>\n      <th>2</th>\n      <td>69.39874</td>\n      <td>0.739150</td>\n    </tr>\n    <tr>\n      <th>3</th>\n      <td>68.21660</td>\n      <td>0.117521</td>\n    </tr>\n    <tr>\n      <th>4</th>\n      <td>67.78781</td>\n      <td>-0.107959</td>\n    </tr>\n    <tr>\n      <th>...</th>\n      <td>...</td>\n      <td>...</td>\n    </tr>\n    <tr>\n      <th>24995</th>\n      <td>69.50215</td>\n      <td>0.793529</td>\n    </tr>\n    <tr>\n      <th>24996</th>\n      <td>64.54826</td>\n      <td>-1.811480</td>\n    </tr>\n    <tr>\n      <th>24997</th>\n      <td>64.69855</td>\n      <td>-1.732450</td>\n    </tr>\n    <tr>\n      <th>24998</th>\n      <td>67.52918</td>\n      <td>-0.243960</td>\n    </tr>\n    <tr>\n      <th>24999</th>\n      <td>68.87761</td>\n      <td>0.465113</td>\n    </tr>\n  </tbody>\n</table>\n<p>24949 rows × 2 columns</p>\n</div>"
     },
     "execution_count": 58,
     "metadata": {},
     "output_type": "execute_result"
    }
   ],
   "source": [
    "no_outlier = df[(df.zscore > -3)&(df.zscore < 3)]\n",
    "no_outlier"
   ],
   "metadata": {
    "collapsed": false,
    "ExecuteTime": {
     "end_time": "2023-05-27T04:13:54.101804743Z",
     "start_time": "2023-05-27T04:13:54.061242925Z"
    }
   }
  }
 ],
 "metadata": {
  "kernelspec": {
   "name": "venv",
   "language": "python",
   "display_name": "venv"
  },
  "language_info": {
   "codemirror_mode": {
    "name": "ipython",
    "version": 2
   },
   "file_extension": ".py",
   "mimetype": "text/x-python",
   "name": "python",
   "nbconvert_exporter": "python",
   "pygments_lexer": "ipython2",
   "version": "2.7.6"
  }
 },
 "nbformat": 4,
 "nbformat_minor": 0
}
