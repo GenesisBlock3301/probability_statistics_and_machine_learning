{
 "cells": [
  {
   "cell_type": "code",
   "execution_count": 2,
   "metadata": {
    "collapsed": true,
    "ExecuteTime": {
     "end_time": "2023-05-25T09:33:25.266370893Z",
     "start_time": "2023-05-25T09:33:25.261372557Z"
    }
   },
   "outputs": [],
   "source": [
    "import pandas as pd\n",
    "import numpy as np"
   ]
  },
  {
   "cell_type": "code",
   "execution_count": 41,
   "outputs": [
    {
     "data": {
      "text/plain": "        name    income\n0        Rob      5000\n1      Rofiq      6000\n2       Nina      4000\n3      Sofia      7500\n4      Mohan      8000\n5        Tao      7000\n6  Elon Musk  10000000",
      "text/html": "<div>\n<style scoped>\n    .dataframe tbody tr th:only-of-type {\n        vertical-align: middle;\n    }\n\n    .dataframe tbody tr th {\n        vertical-align: top;\n    }\n\n    .dataframe thead th {\n        text-align: right;\n    }\n</style>\n<table border=\"1\" class=\"dataframe\">\n  <thead>\n    <tr style=\"text-align: right;\">\n      <th></th>\n      <th>name</th>\n      <th>income</th>\n    </tr>\n  </thead>\n  <tbody>\n    <tr>\n      <th>0</th>\n      <td>Rob</td>\n      <td>5000</td>\n    </tr>\n    <tr>\n      <th>1</th>\n      <td>Rofiq</td>\n      <td>6000</td>\n    </tr>\n    <tr>\n      <th>2</th>\n      <td>Nina</td>\n      <td>4000</td>\n    </tr>\n    <tr>\n      <th>3</th>\n      <td>Sofia</td>\n      <td>7500</td>\n    </tr>\n    <tr>\n      <th>4</th>\n      <td>Mohan</td>\n      <td>8000</td>\n    </tr>\n    <tr>\n      <th>5</th>\n      <td>Tao</td>\n      <td>7000</td>\n    </tr>\n    <tr>\n      <th>6</th>\n      <td>Elon Musk</td>\n      <td>10000000</td>\n    </tr>\n  </tbody>\n</table>\n</div>"
     },
     "execution_count": 41,
     "metadata": {},
     "output_type": "execute_result"
    }
   ],
   "source": [
    "df = pd.read_csv(\"test_data.csv\", names=[\"name\", \"income\"],skiprows=[0])\n",
    "df"
   ],
   "metadata": {
    "collapsed": false,
    "ExecuteTime": {
     "end_time": "2023-05-25T09:57:11.746097416Z",
     "start_time": "2023-05-25T09:57:11.736938074Z"
    }
   }
  },
  {
   "cell_type": "code",
   "execution_count": 10,
   "outputs": [
    {
     "data": {
      "text/plain": "             income\ncount  7.000000e+00\nmean   1.433929e+06\nstd    3.777283e+06\nmin    4.000000e+03\n25%    5.500000e+03\n50%    7.000000e+03\n75%    7.750000e+03\nmax    1.000000e+07",
      "text/html": "<div>\n<style scoped>\n    .dataframe tbody tr th:only-of-type {\n        vertical-align: middle;\n    }\n\n    .dataframe tbody tr th {\n        vertical-align: top;\n    }\n\n    .dataframe thead th {\n        text-align: right;\n    }\n</style>\n<table border=\"1\" class=\"dataframe\">\n  <thead>\n    <tr style=\"text-align: right;\">\n      <th></th>\n      <th>income</th>\n    </tr>\n  </thead>\n  <tbody>\n    <tr>\n      <th>count</th>\n      <td>7.000000e+00</td>\n    </tr>\n    <tr>\n      <th>mean</th>\n      <td>1.433929e+06</td>\n    </tr>\n    <tr>\n      <th>std</th>\n      <td>3.777283e+06</td>\n    </tr>\n    <tr>\n      <th>min</th>\n      <td>4.000000e+03</td>\n    </tr>\n    <tr>\n      <th>25%</th>\n      <td>5.500000e+03</td>\n    </tr>\n    <tr>\n      <th>50%</th>\n      <td>7.000000e+03</td>\n    </tr>\n    <tr>\n      <th>75%</th>\n      <td>7.750000e+03</td>\n    </tr>\n    <tr>\n      <th>max</th>\n      <td>1.000000e+07</td>\n    </tr>\n  </tbody>\n</table>\n</div>"
     },
     "execution_count": 10,
     "metadata": {},
     "output_type": "execute_result"
    }
   ],
   "source": [
    "df.describe()"
   ],
   "metadata": {
    "collapsed": false,
    "ExecuteTime": {
     "end_time": "2023-05-25T09:40:17.216196101Z",
     "start_time": "2023-05-25T09:40:17.178224848Z"
    }
   }
  },
  {
   "cell_type": "code",
   "execution_count": 14,
   "outputs": [
    {
     "data": {
      "text/plain": "7750.0"
     },
     "execution_count": 14,
     "metadata": {},
     "output_type": "execute_result"
    }
   ],
   "source": [
    "df.income.quantile(0.75 )"
   ],
   "metadata": {
    "collapsed": false,
    "ExecuteTime": {
     "end_time": "2023-05-25T09:48:49.111974234Z",
     "start_time": "2023-05-25T09:48:49.074152550Z"
    }
   }
  },
  {
   "cell_type": "code",
   "execution_count": 17,
   "outputs": [
    {
     "data": {
      "text/plain": "7500"
     },
     "execution_count": 17,
     "metadata": {},
     "output_type": "execute_result"
    }
   ],
   "source": [
    "df.income.quantile(0.75, interpolation=\"lower\")"
   ],
   "metadata": {
    "collapsed": false,
    "ExecuteTime": {
     "end_time": "2023-05-25T09:51:56.803785418Z",
     "start_time": "2023-05-25T09:51:56.758611143Z"
    }
   }
  },
  {
   "cell_type": "code",
   "execution_count": 22,
   "outputs": [
    {
     "data": {
      "text/plain": "9400479.999999994"
     },
     "execution_count": 22,
     "metadata": {},
     "output_type": "execute_result"
    }
   ],
   "source": [
    "percentile_99 = df.income.quantile(.99)\n",
    "percentile_99"
   ],
   "metadata": {
    "collapsed": false,
    "ExecuteTime": {
     "end_time": "2023-05-25T09:53:16.820819657Z",
     "start_time": "2023-05-25T09:53:16.776838370Z"
    }
   }
  },
  {
   "cell_type": "code",
   "execution_count": 42,
   "outputs": [
    {
     "data": {
      "text/plain": "    name  income\n0    Rob    5000\n1  Rofiq    6000\n2   Nina    4000\n3  Sofia    7500\n4  Mohan    8000\n5    Tao    7000",
      "text/html": "<div>\n<style scoped>\n    .dataframe tbody tr th:only-of-type {\n        vertical-align: middle;\n    }\n\n    .dataframe tbody tr th {\n        vertical-align: top;\n    }\n\n    .dataframe thead th {\n        text-align: right;\n    }\n</style>\n<table border=\"1\" class=\"dataframe\">\n  <thead>\n    <tr style=\"text-align: right;\">\n      <th></th>\n      <th>name</th>\n      <th>income</th>\n    </tr>\n  </thead>\n  <tbody>\n    <tr>\n      <th>0</th>\n      <td>Rob</td>\n      <td>5000</td>\n    </tr>\n    <tr>\n      <th>1</th>\n      <td>Rofiq</td>\n      <td>6000</td>\n    </tr>\n    <tr>\n      <th>2</th>\n      <td>Nina</td>\n      <td>4000</td>\n    </tr>\n    <tr>\n      <th>3</th>\n      <td>Sofia</td>\n      <td>7500</td>\n    </tr>\n    <tr>\n      <th>4</th>\n      <td>Mohan</td>\n      <td>8000</td>\n    </tr>\n    <tr>\n      <th>5</th>\n      <td>Tao</td>\n      <td>7000</td>\n    </tr>\n  </tbody>\n</table>\n</div>"
     },
     "execution_count": 42,
     "metadata": {},
     "output_type": "execute_result"
    }
   ],
   "source": [
    "df_no_outlier = df[df.income <= percentile_99]\n",
    "df_no_outlier"
   ],
   "metadata": {
    "collapsed": false,
    "ExecuteTime": {
     "end_time": "2023-05-25T09:57:18.772494121Z",
     "start_time": "2023-05-25T09:57:18.770153225Z"
    }
   }
  },
  {
   "cell_type": "code",
   "execution_count": 44,
   "outputs": [
    {
     "data": {
      "text/plain": "        name    income\n0        Rob      5000\n1      Rofiq      6000\n2       Nina      4000\n3      Sofia      7500\n4      Mohan      8000\n5        Tao      7000\n6  Elon Musk  10000000",
      "text/html": "<div>\n<style scoped>\n    .dataframe tbody tr th:only-of-type {\n        vertical-align: middle;\n    }\n\n    .dataframe tbody tr th {\n        vertical-align: top;\n    }\n\n    .dataframe thead th {\n        text-align: right;\n    }\n</style>\n<table border=\"1\" class=\"dataframe\">\n  <thead>\n    <tr style=\"text-align: right;\">\n      <th></th>\n      <th>name</th>\n      <th>income</th>\n    </tr>\n  </thead>\n  <tbody>\n    <tr>\n      <th>0</th>\n      <td>Rob</td>\n      <td>5000</td>\n    </tr>\n    <tr>\n      <th>1</th>\n      <td>Rofiq</td>\n      <td>6000</td>\n    </tr>\n    <tr>\n      <th>2</th>\n      <td>Nina</td>\n      <td>4000</td>\n    </tr>\n    <tr>\n      <th>3</th>\n      <td>Sofia</td>\n      <td>7500</td>\n    </tr>\n    <tr>\n      <th>4</th>\n      <td>Mohan</td>\n      <td>8000</td>\n    </tr>\n    <tr>\n      <th>5</th>\n      <td>Tao</td>\n      <td>7000</td>\n    </tr>\n    <tr>\n      <th>6</th>\n      <td>Elon Musk</td>\n      <td>10000000</td>\n    </tr>\n  </tbody>\n</table>\n</div>"
     },
     "execution_count": 44,
     "metadata": {},
     "output_type": "execute_result"
    }
   ],
   "source": [
    "df"
   ],
   "metadata": {
    "collapsed": false,
    "ExecuteTime": {
     "end_time": "2023-05-25T09:57:55.928752335Z",
     "start_time": "2023-05-25T09:57:55.915323286Z"
    }
   }
  },
  {
   "cell_type": "code",
   "execution_count": 48,
   "outputs": [],
   "source": [
    "df[\"income\"][3] = np.NaN"
   ],
   "metadata": {
    "collapsed": false,
    "ExecuteTime": {
     "end_time": "2023-05-25T09:58:34.564676768Z",
     "start_time": "2023-05-25T09:58:34.542699777Z"
    }
   }
  },
  {
   "cell_type": "code",
   "execution_count": 49,
   "outputs": [
    {
     "data": {
      "text/plain": "        name      income\n0        Rob      5000.0\n1      Rofiq      6000.0\n2       Nina      4000.0\n3      Sofia         NaN\n4      Mohan      8000.0\n5        Tao      7000.0\n6  Elon Musk  10000000.0",
      "text/html": "<div>\n<style scoped>\n    .dataframe tbody tr th:only-of-type {\n        vertical-align: middle;\n    }\n\n    .dataframe tbody tr th {\n        vertical-align: top;\n    }\n\n    .dataframe thead th {\n        text-align: right;\n    }\n</style>\n<table border=\"1\" class=\"dataframe\">\n  <thead>\n    <tr style=\"text-align: right;\">\n      <th></th>\n      <th>name</th>\n      <th>income</th>\n    </tr>\n  </thead>\n  <tbody>\n    <tr>\n      <th>0</th>\n      <td>Rob</td>\n      <td>5000.0</td>\n    </tr>\n    <tr>\n      <th>1</th>\n      <td>Rofiq</td>\n      <td>6000.0</td>\n    </tr>\n    <tr>\n      <th>2</th>\n      <td>Nina</td>\n      <td>4000.0</td>\n    </tr>\n    <tr>\n      <th>3</th>\n      <td>Sofia</td>\n      <td>NaN</td>\n    </tr>\n    <tr>\n      <th>4</th>\n      <td>Mohan</td>\n      <td>8000.0</td>\n    </tr>\n    <tr>\n      <th>5</th>\n      <td>Tao</td>\n      <td>7000.0</td>\n    </tr>\n    <tr>\n      <th>6</th>\n      <td>Elon Musk</td>\n      <td>10000000.0</td>\n    </tr>\n  </tbody>\n</table>\n</div>"
     },
     "execution_count": 49,
     "metadata": {},
     "output_type": "execute_result"
    }
   ],
   "source": [
    "df"
   ],
   "metadata": {
    "collapsed": false,
    "ExecuteTime": {
     "end_time": "2023-05-25T09:58:41.049390785Z",
     "start_time": "2023-05-25T09:58:41.033958287Z"
    }
   }
  },
  {
   "cell_type": "code",
   "execution_count": 51,
   "outputs": [
    {
     "data": {
      "text/plain": "1671666.6666666667"
     },
     "execution_count": 51,
     "metadata": {},
     "output_type": "execute_result"
    }
   ],
   "source": [
    "df.income.mean()"
   ],
   "metadata": {
    "collapsed": false,
    "ExecuteTime": {
     "end_time": "2023-05-25T09:59:31.781728547Z",
     "start_time": "2023-05-25T09:59:31.766693314Z"
    }
   }
  },
  {
   "cell_type": "code",
   "execution_count": 53,
   "outputs": [
    {
     "data": {
      "text/plain": "        name        income\n0        Rob  5.000000e+03\n1      Rofiq  6.000000e+03\n2       Nina  4.000000e+03\n3      Sofia  1.671667e+06\n4      Mohan  8.000000e+03\n5        Tao  7.000000e+03\n6  Elon Musk  1.000000e+07",
      "text/html": "<div>\n<style scoped>\n    .dataframe tbody tr th:only-of-type {\n        vertical-align: middle;\n    }\n\n    .dataframe tbody tr th {\n        vertical-align: top;\n    }\n\n    .dataframe thead th {\n        text-align: right;\n    }\n</style>\n<table border=\"1\" class=\"dataframe\">\n  <thead>\n    <tr style=\"text-align: right;\">\n      <th></th>\n      <th>name</th>\n      <th>income</th>\n    </tr>\n  </thead>\n  <tbody>\n    <tr>\n      <th>0</th>\n      <td>Rob</td>\n      <td>5.000000e+03</td>\n    </tr>\n    <tr>\n      <th>1</th>\n      <td>Rofiq</td>\n      <td>6.000000e+03</td>\n    </tr>\n    <tr>\n      <th>2</th>\n      <td>Nina</td>\n      <td>4.000000e+03</td>\n    </tr>\n    <tr>\n      <th>3</th>\n      <td>Sofia</td>\n      <td>1.671667e+06</td>\n    </tr>\n    <tr>\n      <th>4</th>\n      <td>Mohan</td>\n      <td>8.000000e+03</td>\n    </tr>\n    <tr>\n      <th>5</th>\n      <td>Tao</td>\n      <td>7.000000e+03</td>\n    </tr>\n    <tr>\n      <th>6</th>\n      <td>Elon Musk</td>\n      <td>1.000000e+07</td>\n    </tr>\n  </tbody>\n</table>\n</div>"
     },
     "execution_count": 53,
     "metadata": {},
     "output_type": "execute_result"
    }
   ],
   "source": [
    "df_new = df.fillna(df.income.mean())\n",
    "df_new"
   ],
   "metadata": {
    "collapsed": false,
    "ExecuteTime": {
     "end_time": "2023-05-25T10:00:48.128913401Z",
     "start_time": "2023-05-25T10:00:48.115591446Z"
    }
   }
  },
  {
   "cell_type": "code",
   "execution_count": 54,
   "outputs": [
    {
     "data": {
      "text/plain": "        name      income\n0        Rob      5000.0\n1      Rofiq      6000.0\n2       Nina      4000.0\n3      Sofia      6500.0\n4      Mohan      8000.0\n5        Tao      7000.0\n6  Elon Musk  10000000.0",
      "text/html": "<div>\n<style scoped>\n    .dataframe tbody tr th:only-of-type {\n        vertical-align: middle;\n    }\n\n    .dataframe tbody tr th {\n        vertical-align: top;\n    }\n\n    .dataframe thead th {\n        text-align: right;\n    }\n</style>\n<table border=\"1\" class=\"dataframe\">\n  <thead>\n    <tr style=\"text-align: right;\">\n      <th></th>\n      <th>name</th>\n      <th>income</th>\n    </tr>\n  </thead>\n  <tbody>\n    <tr>\n      <th>0</th>\n      <td>Rob</td>\n      <td>5000.0</td>\n    </tr>\n    <tr>\n      <th>1</th>\n      <td>Rofiq</td>\n      <td>6000.0</td>\n    </tr>\n    <tr>\n      <th>2</th>\n      <td>Nina</td>\n      <td>4000.0</td>\n    </tr>\n    <tr>\n      <th>3</th>\n      <td>Sofia</td>\n      <td>6500.0</td>\n    </tr>\n    <tr>\n      <th>4</th>\n      <td>Mohan</td>\n      <td>8000.0</td>\n    </tr>\n    <tr>\n      <th>5</th>\n      <td>Tao</td>\n      <td>7000.0</td>\n    </tr>\n    <tr>\n      <th>6</th>\n      <td>Elon Musk</td>\n      <td>10000000.0</td>\n    </tr>\n  </tbody>\n</table>\n</div>"
     },
     "execution_count": 54,
     "metadata": {},
     "output_type": "execute_result"
    }
   ],
   "source": [
    "df_new = df.fillna(df.income.median())\n",
    "df_new"
   ],
   "metadata": {
    "collapsed": false,
    "ExecuteTime": {
     "end_time": "2023-05-25T10:01:09.638853181Z",
     "start_time": "2023-05-25T10:01:09.636451395Z"
    }
   }
  }
 ],
 "metadata": {
  "kernelspec": {
   "name": "venv",
   "language": "python",
   "display_name": "venv"
  },
  "language_info": {
   "codemirror_mode": {
    "name": "ipython",
    "version": 2
   },
   "file_extension": ".py",
   "mimetype": "text/x-python",
   "name": "python",
   "nbconvert_exporter": "python",
   "pygments_lexer": "ipython2",
   "version": "2.7.6"
  }
 },
 "nbformat": 4,
 "nbformat_minor": 0
}
