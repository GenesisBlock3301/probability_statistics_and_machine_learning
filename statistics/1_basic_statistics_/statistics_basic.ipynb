{
 "cells": [
  {
   "cell_type": "markdown",
   "source": [
    "## What is statistics?\n",
    "The mathematics of the collection, organization and interpretation of numerical data especially the analysis of population characteristics by inference from sampling.\n",
    "\n",
    " ## Statistics\n",
    "> Statistics is a science of collecting, organizing, presenting, analysing and interpreting data to\n",
    " help making more effective decisions.\n",
    "\n",
    "### Types of statistical applications:\n",
    "\n",
    "**Descriptive Statistics**\n",
    "> This is the branch of statistics that deals with summarizing, organizing, and presenting data in a\n",
    "meaningful way. The goal of descriptive statistics is to describe the main features of a dataset, such as **the mean,\n",
    "median, mode, and spread of the data**. For example, if we want to describe the height of all students in a class,\n",
    "we might calculate the average height and the range (difference between the shortest and tallest students).\n",
    "\n",
    "**Inferential Statistics**\n",
    ">On the other hand, is concerned with making predictions or inferences about a larger population\n",
    "based on a sample of data. The goal of inferential statistics is to estimate the population parameters from the sample\n",
    "statistics. For example, if we want to estimate the average height of all students in a school based on the heights of\n",
    "a sample of 50 students, we would use inferential statistics to make this prediction. Inferential statistics allows us\n",
    "to make generalizations about a population based on a sample, which can be useful in situations where collecting data\n",
    "from the entire population is either too time-consuming or too expensive.`\n",
    "\n",
    "### Population\n",
    "> A set of all values or elements defined on some common characteristics is called a population. If we want to study on\n",
    "student weight of class Xii, all student's weights are population\n",
    "\n",
    "### Parameter\n",
    "> A parameter is a numerical measure that describe a characteristic of a population.\n",
    "\n",
    "### Sample\n",
    "> Small part of population is called sample.\n",
    "\n",
    "Variables can be classified into two main types: **categorical variables and numerical variables**.\n",
    "\n",
    "**Categorical Variables:**\n",
    "> Categorical variables represent qualitative attributes or characteristics. They can take on a limited number of distinct categories or levels. Examples include gender (male/female), marital status (single/married/divorced), and eye color (blue/brown/green). Categorical variables are often analyzed using methods like frequency counts and cross-tabulations.\n",
    "\n",
    "**Numerical Variables:**\n",
    "> Numerical variables represent quantitative measurements or values. They can be further categorized as **discrete or continuous**.\n",
    "\n",
    ">> **Discrete Variables:**\n",
    "> Discrete variables have a countable number of possible values. They typically represent whole numbers or a finite set of values. Examples include the number of siblings a person has, the count of items sold, or the number of cars in a parking lot.\n",
    "\n",
    ">> **Continuous Variables:**\n",
    "> Continuous variables can take any value within a specific range or interval. They are often measured on a scale and can include decimal points. Examples include height, weight, temperature, and time. Continuous variables are commonly analyzed using measures of central tendency (mean, median) and measures of dispersion (variance, standard deviation).\n",
    "\n"
   ],
   "metadata": {
    "collapsed": false
   }
  },
  {
   "cell_type": "markdown",
   "source": [
    "## Dealing with RAW data : How to prepare data for further statistical operation?\n",
    "Most common frequently methods are:\n",
    "1. Classification data\n",
    "2. Tabulation data\n",
    "3. Graphical representation\n",
    "\n",
    "### Classification:\n",
    "> Classification is the process of arranging data values in groups. It is first step towards further processing of a heterogeneous mass of data into a number of homogeneous\n",
    " and subgroups by their respective characteristics.\n",
    "\n",
    "#### Principal of Classification:\n",
    "1. Eliminate unnecessary data\n",
    "2. To bring clearly point of similarity and dissimilarity.\n",
    "3. To enable one to make comparison.\n",
    "4. To enable on to form mental picture of objects.\n",
    "\n",
    "\n",
    " ### Tabulation\n",
    " > A statistical method of data condensation by which we can represent summary information of one or more variables is defined as a tabulation.\n",
    "\n",
    "#### Principal of Tabulation:\n",
    "1. Table should be self-explanatory. The title describing the contents of the table should be clear, concise and to the point.\n",
    "2. Table should be as simple as possible."
   ],
   "metadata": {
    "collapsed": false
   }
  },
  {
   "cell_type": "markdown",
   "source": [
    "# Frequency distribution"
   ],
   "metadata": {
    "collapsed": false
   }
  },
  {
   "cell_type": "code",
   "execution_count": 49,
   "outputs": [],
   "source": [
    "import pandas as pd\n",
    "import matplotlib.pyplot as plt\n",
    "import seaborn as sn"
   ],
   "metadata": {
    "collapsed": false,
    "ExecuteTime": {
     "end_time": "2023-05-29T13:17:56.266889593Z",
     "start_time": "2023-05-29T13:17:55.716137129Z"
    }
   }
  },
  {
   "cell_type": "code",
   "execution_count": 32,
   "outputs": [
    {
     "data": {
      "text/plain": "   interval  no_of_items\n0   (0, 20]            3\n1  (20, 40]            4\n2  (40, 60]            4\n3  (60, 80]            4",
      "text/html": "<div>\n<style scoped>\n    .dataframe tbody tr th:only-of-type {\n        vertical-align: middle;\n    }\n\n    .dataframe tbody tr th {\n        vertical-align: top;\n    }\n\n    .dataframe thead th {\n        text-align: right;\n    }\n</style>\n<table border=\"1\" class=\"dataframe\">\n  <thead>\n    <tr style=\"text-align: right;\">\n      <th></th>\n      <th>interval</th>\n      <th>no_of_items</th>\n    </tr>\n  </thead>\n  <tbody>\n    <tr>\n      <th>0</th>\n      <td>(0, 20]</td>\n      <td>3</td>\n    </tr>\n    <tr>\n      <th>1</th>\n      <td>(20, 40]</td>\n      <td>4</td>\n    </tr>\n    <tr>\n      <th>2</th>\n      <td>(40, 60]</td>\n      <td>4</td>\n    </tr>\n    <tr>\n      <th>3</th>\n      <td>(60, 80]</td>\n      <td>4</td>\n    </tr>\n  </tbody>\n</table>\n</div>"
     },
     "execution_count": 32,
     "metadata": {},
     "output_type": "execute_result"
    }
   ],
   "source": [
    "# Sample data\n",
    "data = [10, 15, 20, 25, 30, 35, 40, 45, 50, 55, 60, 65, 70, 75, 80]\n",
    "# Define the bin edges (intervals)\n",
    "bins = [0, 20, 40, 60, 80]\n",
    "# interval\n",
    "intervals = pd.cut(data,bins)\n",
    "# frequency_dist = intervals.value_counts(sort=False)\n",
    "# frequency_dist\n",
    "frequency_dist = intervals.value_counts().reset_index()\n",
    "df = pd.DataFrame(frequency_dist)\n",
    "\n",
    "# Rename the columns\n",
    "frequency_dist_df = df.rename(columns={\"index\": \"interval\", 0: \"no_of_items\"})\n",
    "frequency_dist_df"
   ],
   "metadata": {
    "collapsed": false,
    "ExecuteTime": {
     "end_time": "2023-05-29T12:48:41.334918066Z",
     "start_time": "2023-05-29T12:48:41.290534160Z"
    }
   }
  },
  {
   "cell_type": "code",
   "execution_count": 51,
   "outputs": [
    {
     "ename": "TypeError",
     "evalue": "can only concatenate str (not \"int\") to str",
     "output_type": "error",
     "traceback": [
      "\u001B[0;31m---------------------------------------------------------------------------\u001B[0m",
      "\u001B[0;31mTypeError\u001B[0m                                 Traceback (most recent call last)",
      "Cell \u001B[0;32mIn[51], line 10\u001B[0m\n\u001B[1;32m      8\u001B[0m label_step \u001B[38;5;241m=\u001B[39m \u001B[38;5;241m2\u001B[39m\n\u001B[1;32m      9\u001B[0m max_count \u001B[38;5;241m=\u001B[39m frequency_dist_df[\u001B[38;5;124m'\u001B[39m\u001B[38;5;124mno_of_items\u001B[39m\u001B[38;5;124m'\u001B[39m]\u001B[38;5;241m.\u001B[39mmax()\n\u001B[0;32m---> 10\u001B[0m yticks \u001B[38;5;241m=\u001B[39m \u001B[38;5;28mrange\u001B[39m(\u001B[38;5;241m0\u001B[39m, \u001B[43mmax_count\u001B[49m\u001B[43m \u001B[49m\u001B[38;5;241;43m+\u001B[39;49m\u001B[43m \u001B[49m\u001B[38;5;241;43m1\u001B[39;49m, label_step)\n\u001B[1;32m     11\u001B[0m yticklabels \u001B[38;5;241m=\u001B[39m [\u001B[38;5;28mstr\u001B[39m(y) \u001B[38;5;28;01mfor\u001B[39;00m y \u001B[38;5;129;01min\u001B[39;00m yticks]\n\u001B[1;32m     12\u001B[0m plt\u001B[38;5;241m.\u001B[39myticks(yticks, yticklabels)\n",
      "\u001B[0;31mTypeError\u001B[0m: can only concatenate str (not \"int\") to str"
     ]
    },
    {
     "data": {
      "text/plain": "<Figure size 640x480 with 1 Axes>",
      "image/png": "[encoded data removed]"
     },
     "metadata": {},
     "output_type": "display_data"
    }
   ],
   "source": [
    "frequency_dist_df[\"interval\"] = frequency_dist_df[\"interval\"].astype(str)\n",
    "frequency_dist_df[\"no_of_items\"] = frequency_dist_df[\"no_of_items\"].astype(str)\n",
    "plt.bar(frequency_dist_df[\"interval\"], frequency_dist_df[\"no_of_items\"])\n",
    "plt.xlabel(\"Interval\")\n",
    "plt.ylabel(\"Frequency\")\n",
    "# Set custom count step for y-axis ticks\n",
    "# Set custom step for y-axis labels\n",
    "label_step = 2\n",
    "max_count = frequency_dist_df['no_of_items'].max()\n",
    "yticks = range(0, max_count + 1, label_step)\n",
    "yticklabels = [str(y) for y in yticks]\n",
    "plt.yticks(yticks, yticklabels)\n",
    "\n",
    "plt.show()"
   ],
   "metadata": {
    "collapsed": false,
    "ExecuteTime": {
     "end_time": "2023-05-29T13:29:48.475147004Z",
     "start_time": "2023-05-29T13:29:48.424158393Z"
    }
   }
  },
  {
   "cell_type": "code",
   "execution_count": 55,
   "outputs": [
    {
     "data": {
      "text/plain": "<AxesSubplot: xlabel='no_of_items', ylabel='Count'>"
     },
     "execution_count": 55,
     "metadata": {},
     "output_type": "execute_result"
    },
    {
     "data": {
      "text/plain": "<Figure size 640x480 with 1 Axes>",
      "image/png": "[encoded data removed]"
     },
     "metadata": {},
     "output_type": "display_data"
    }
   ],
   "source": [
    "df3 = frequency_dist_df.no_of_items\n",
    "sn.histplot(df3)"
   ],
   "metadata": {
    "collapsed": false,
    "ExecuteTime": {
     "end_time": "2023-05-29T13:31:04.215382152Z",
     "start_time": "2023-05-29T13:31:04.152188866Z"
    }
   }
  }
 ],
 "metadata": {
  "kernelspec": {
   "name": "venv",
   "language": "python",
   "display_name": "venv"
  },
  "language_info": {
   "codemirror_mode": {
    "name": "ipython",
    "version": 2
   },
   "file_extension": ".py",
   "mimetype": "text/x-python",
   "name": "python",
   "nbconvert_exporter": "python",
   "pygments_lexer": "ipython2",
   "version": "2.7.6"
  }
 },
 "nbformat": 4,
 "nbformat_minor": 0
}
