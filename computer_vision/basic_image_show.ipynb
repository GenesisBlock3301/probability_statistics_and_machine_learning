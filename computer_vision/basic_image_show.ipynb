{
 "cells": [
  {
   "cell_type": "code",
   "id": "initial_id",
   "metadata": {
    "collapsed": true,
    "ExecuteTime": {
     "end_time": "2025-02-26T03:12:50.445721Z",
     "start_time": "2025-02-26T03:12:50.413062Z"
    }
   },
   "source": [
    "import cv2\n",
    "\n",
    "image = cv2.imread('img.png')\n",
    "\n",
    "h, w = image.shape[:2]\n",
    "print(h, w)\n",
    "print(image.shape)"
   ],
   "outputs": [
    {
     "name": "stdout",
     "output_type": "stream",
     "text": [
      "684 1024\n",
      "(684, 1024, 3)\n"
     ]
    }
   ],
   "execution_count": 13
  },
  {
   "metadata": {
    "ExecuteTime": {
     "end_time": "2025-02-26T03:10:47.308241Z",
     "start_time": "2025-02-26T03:10:47.303819Z"
    }
   },
   "cell_type": "code",
   "source": [
    "(B, G, R) = image[100, 100]\n",
    "print(B, G, R)"
   ],
   "id": "a19a57a0524f60ce",
   "outputs": [
    {
     "name": "stdout",
     "output_type": "stream",
     "text": [
      "169 207 242\n"
     ]
    }
   ],
   "execution_count": 12
  },
  {
   "metadata": {},
   "cell_type": "code",
   "outputs": [],
   "execution_count": null,
   "source": [
    "# Extracting region of interest.\n",
    "roi = image[100:500, 200:700]"
   ],
   "id": "8ba8a3cf824e2633"
  }
 ],
 "metadata": {
  "kernelspec": {
   "display_name": "Python 3",
   "language": "python",
   "name": "python3"
  },
  "language_info": {
   "codemirror_mode": {
    "name": "ipython",
    "version": 2
   },
   "file_extension": ".py",
   "mimetype": "text/x-python",
   "name": "python",
   "nbconvert_exporter": "python",
   "pygments_lexer": "ipython2",
   "version": "2.7.6"
  }
 },
 "nbformat": 4,
 "nbformat_minor": 5
}
