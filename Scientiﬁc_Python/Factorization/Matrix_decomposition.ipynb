{
 "cells": [
  {
   "cell_type": "markdown",
   "source": [
    "### Matrix Decomposition\n",
    "It is an approach that can simplify more complex matrix operations that can be performed on the\n",
    "decomposed matrix rather than on the original matrix itself.\n",
    "\n",
    "A common analogy for matrix decomposition matrix is the factoring of numbers such as factoring of 10 into 2x5. For this reason matrix decomposition is also called matrix factorization.\n",
    "There are many matrix decomposition method available but two are widely used:\n",
    "1. **LU Decomposition matrix:**\n",
    "   LU decomposition for square matrix and decompose a matrix into L and U component.\n",
    "   A = L.U or LU\n",
    "   here L is lower triangle matrix and U is the upper triangle matrix.\n",
    "   How to Find LU :\n",
    "   - Matrix multiplying with same dimension Identity matrix\n",
    "   - Making zero below original matrix and add this cooficeint into the identity matrix.\n",
    "\n",
    "2."
   ],
   "metadata": {
    "collapsed": false
   }
  },
  {
   "cell_type": "code",
   "execution_count": 2,
   "outputs": [],
   "source": [
    "import numpy as np"
   ],
   "metadata": {
    "collapsed": false
   }
  },
  {
   "cell_type": "code",
   "execution_count": 3,
   "outputs": [
    {
     "name": "stdout",
     "output_type": "stream",
     "text": [
      "[[1.         0.         0.        ]\n",
      " [0.66666667 1.         0.        ]\n",
      " [0.33333333 0.5        1.        ]]\n"
     ]
    }
   ],
   "source": [
    "from scipy.linalg import lu\n",
    "# define square matrix\n",
    "\n",
    "A = np.array([\n",
    "    [1,2,3],\n",
    "    [2,4,1],\n",
    "    [3,5,7]\n",
    "])\n",
    "\n",
    "P,L,U = lu(A)\n",
    "print(L)"
   ],
   "metadata": {
    "collapsed": false
   }
  }
 ],
 "metadata": {
  "kernelspec": {
   "name": "venv",
   "language": "python",
   "display_name": "venv"
  },
  "language_info": {
   "codemirror_mode": {
    "name": "ipython",
    "version": 2
   },
   "file_extension": ".py",
   "mimetype": "text/x-python",
   "name": "python",
   "nbconvert_exporter": "python",
   "pygments_lexer": "ipython2",
   "version": "2.7.6"
  }
 },
 "nbformat": 4,
 "nbformat_minor": 0
}
