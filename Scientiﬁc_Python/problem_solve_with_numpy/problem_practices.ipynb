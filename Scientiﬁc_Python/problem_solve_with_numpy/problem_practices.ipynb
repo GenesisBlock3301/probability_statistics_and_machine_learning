{
 "cells": [
  {
   "cell_type": "code",
   "execution_count": 2,
   "metadata": {
    "collapsed": true,
    "ExecuteTime": {
     "start_time": "2023-04-09T10:49:09.699853Z",
     "end_time": "2023-04-09T10:49:09.745786Z"
    }
   },
   "outputs": [],
   "source": [
    "import numpy as np"
   ]
  },
  {
   "cell_type": "code",
   "execution_count": 9,
   "outputs": [
    {
     "name": "stdout",
     "output_type": "stream",
     "text": [
      "[]\n"
     ]
    }
   ],
   "source": [
    "# https://www.hackerrank.com/challenges/np-arrays/problem\n",
    "l = [int(x) for x in input().split()]\n",
    "array = np.array(l, dtype=\"float64\")\n",
    "rev_arr = np.flip(array)\n",
    "print(rev_arr)"
   ],
   "metadata": {
    "collapsed": false,
    "ExecuteTime": {
     "start_time": "2023-04-09T12:36:44.939258Z",
     "end_time": "2023-04-09T12:36:48.069357Z"
    }
   }
  },
  {
   "cell_type": "markdown",
   "source": [],
   "metadata": {
    "collapsed": false
   }
  },
  {
   "cell_type": "code",
   "execution_count": 16,
   "outputs": [
    {
     "name": "stdout",
     "output_type": "stream",
     "text": [
      "[[1 3 6]\n",
      " [2 4 7]]\n",
      "[1 2 3 4 6 7]\n"
     ]
    }
   ],
   "source": [
    "n = int(input())\n",
    "m = int(input())\n",
    "lis = [[int(x) for x in input().split()][:m] for i in range(n)]\n",
    "array = np.array()"
   ],
   "metadata": {
    "collapsed": false,
    "ExecuteTime": {
     "start_time": "2023-04-09T12:45:06.902948Z",
     "end_time": "2023-04-09T12:45:06.947098Z"
    }
   }
  },
  {
   "cell_type": "code",
   "execution_count": 33,
   "outputs": [
    {
     "ename": "ValueError",
     "evalue": "not enough values to unpack (expected 3, got 0)",
     "output_type": "error",
     "traceback": [
      "\u001B[0;31m---------------------------------------------------------------------------\u001B[0m",
      "\u001B[0;31mValueError\u001B[0m                                Traceback (most recent call last)",
      "Cell \u001B[0;32mIn[33], line 3\u001B[0m\n\u001B[1;32m      1\u001B[0m \u001B[38;5;66;03m# https://www.hackerrank.com/challenges/np-concatenate/problem\u001B[39;00m\n\u001B[1;32m      2\u001B[0m \u001B[38;5;28;01mimport\u001B[39;00m \u001B[38;5;21;01mnumpy\u001B[39;00m\n\u001B[0;32m----> 3\u001B[0m n, m, p \u001B[38;5;241m=\u001B[39m [\u001B[38;5;28mint\u001B[39m(x) \u001B[38;5;28;01mfor\u001B[39;00m x \u001B[38;5;129;01min\u001B[39;00m \u001B[38;5;28minput\u001B[39m()\u001B[38;5;241m.\u001B[39msplit()]\n\u001B[1;32m      4\u001B[0m a1 \u001B[38;5;241m=\u001B[39m numpy\u001B[38;5;241m.\u001B[39marray([[\u001B[38;5;28mint\u001B[39m(x) \u001B[38;5;28;01mfor\u001B[39;00m x \u001B[38;5;129;01min\u001B[39;00m \u001B[38;5;28minput\u001B[39m()\u001B[38;5;241m.\u001B[39msplit()][:p] \u001B[38;5;28;01mfor\u001B[39;00m _ \u001B[38;5;129;01min\u001B[39;00m \u001B[38;5;28mrange\u001B[39m(n)])\n\u001B[1;32m      5\u001B[0m a2 \u001B[38;5;241m=\u001B[39m numpy\u001B[38;5;241m.\u001B[39marray([[\u001B[38;5;28mint\u001B[39m(x) \u001B[38;5;28;01mfor\u001B[39;00m x \u001B[38;5;129;01min\u001B[39;00m \u001B[38;5;28minput\u001B[39m()\u001B[38;5;241m.\u001B[39msplit()][:p] \u001B[38;5;28;01mfor\u001B[39;00m _ \u001B[38;5;129;01min\u001B[39;00m \u001B[38;5;28mrange\u001B[39m(m)])\n",
      "\u001B[0;31mValueError\u001B[0m: not enough values to unpack (expected 3, got 0)"
     ]
    }
   ],
   "source": [
    "# https://www.hackerrank.com/challenges/np-concatenate/problem\n",
    "import numpy\n",
    "n, m, p = [int(x) for x in input().split()]\n",
    "a1 = numpy.array([[int(x) for x in input().split()][:p] for _ in range(n)])\n",
    "a2 = numpy.array([[int(x) for x in input().split()][:p] for _ in range(m)])\n",
    "a1 = [[1,2],\n",
    "      [1,2],[1,2],[1,2]]\n",
    "a2 = [[3,4],\n",
    "      [5,6],[7,8]]\n",
    "print(a1)\n",
    "print(a2)\n",
    "\n",
    "print(numpy.concatenate((a1, a2)))"
   ],
   "metadata": {
    "collapsed": false,
    "ExecuteTime": {
     "start_time": "2023-04-09T13:10:56.762931Z",
     "end_time": "2023-04-09T13:10:56.806046Z"
    }
   }
  },
  {
   "cell_type": "code",
   "execution_count": 44,
   "outputs": [
    {
     "name": "stdout",
     "output_type": "stream",
     "text": [
      "[[0 0 0 0]\n",
      " [0 0 0 0]\n",
      " [0 0 0 0]]\n",
      "[[1 1 1 1]\n",
      " [1 1 1 1]\n",
      " [1 1 1 1]]\n"
     ]
    }
   ],
   "source": [
    "# https://www.hackerrank.com/challenges/np-zeros-and-ones/problem?h_r=next-challenge&h_v=zen\n",
    "shape = tuple(int(x) for x in input().split())\n",
    "print(numpy.zeros(shape, dtype=numpy.int64))\n",
    "print(numpy.ones(shape,dtype=numpy.int64))\n"
   ],
   "metadata": {
    "collapsed": false,
    "ExecuteTime": {
     "start_time": "2023-04-09T13:38:09.562411Z",
     "end_time": "2023-04-09T13:38:13.176592Z"
    }
   }
  },
  {
   "cell_type": "code",
   "execution_count": 58,
   "outputs": [
    {
     "name": "stdout",
     "output_type": "stream",
     "text": [
      "[[ 1.  0.  0.]\n",
      " [ 0.  1.  0.]\n",
      " [ 0.  0.  1.]]\n"
     ]
    }
   ],
   "source": [
    "# https://www.hackerrank.com/challenges/np-eye-and-identity/problem?h_r=next-challenge&h_v=zen&h_r=next-challenge&h_v=zen\n",
    "n,m = tuple(int(x) for x in input().split())[:2]\n",
    "numpy.set_printoptions(legacy=\"1.13\")\n",
    "print(numpy.eye(n,m))"
   ],
   "metadata": {
    "collapsed": false,
    "ExecuteTime": {
     "start_time": "2023-04-09T16:56:58.161190Z",
     "end_time": "2023-04-09T16:57:02.467167Z"
    }
   }
  },
  {
   "cell_type": "code",
   "execution_count": 61,
   "outputs": [
    {
     "name": "stdout",
     "output_type": "stream",
     "text": [
      "[[5 7 9]]\n",
      "[[-3 -3 -3]]\n",
      "[[ 4 10 18]]\n",
      "[[ 0.25  0.4   0.5 ]]\n",
      "[[1 2 3]]\n",
      "[[1 4 9]]\n"
     ]
    }
   ],
   "source": [
    "# https://www.hackerrank.com/challenges/np-array-mathematics/problem?h_r=next-challenge&h_v=zen&h_r=next-challenge&h_v=zen&h_r=next-challenge&h_v=zen\n",
    "n,m = tuple(int(x) for x in input().split())\n",
    "A  = numpy.array([[int(x) for x in input().split()][:m] for _ in range(n)])\n",
    "B  = numpy.array([[int(x) for x in input().split()][:m] for _ in range(n)])\n",
    "print(numpy.add(A,B))\n",
    "print(numpy.subtract(A,B))\n",
    "print(numpy.multiply(A,B))\n",
    "print(numpy.floor_divide(A,B,))\n",
    "print(numpy.mod(A,B))\n",
    "print(numpy.power(A,B))"
   ],
   "metadata": {
    "collapsed": false,
    "ExecuteTime": {
     "start_time": "2023-04-09T17:05:08.887706Z",
     "end_time": "2023-04-09T17:05:21.218820Z"
    }
   }
  },
  {
   "cell_type": "code",
   "execution_count": 62,
   "outputs": [
    {
     "name": "stdout",
     "output_type": "stream",
     "text": [
      "[ 1.  2.  3.  4.  5.  6.  7.  8.  9.]\n",
      "[  2.   3.   4.   5.   6.   7.   8.   9.  10.]\n",
      "[  1.   2.   3.   4.   6.   7.   8.   9.  10.]\n"
     ]
    }
   ],
   "source": [
    "# https://www.hackerrank.com/challenges/floor-ceil-and-rint/problem\n",
    "my_array = [1.1,2.2,3.3,4.4,5.5,6.6, 7.7, 8.8, 9.9]\n",
    "print(numpy.floor(my_array))\n",
    "print(numpy.ceil(my_array))\n",
    "print(numpy.rint(my_array))"
   ],
   "metadata": {
    "collapsed": false,
    "ExecuteTime": {
     "start_time": "2023-04-09T17:13:13.498143Z",
     "end_time": "2023-04-09T17:13:13.545608Z"
    }
   }
  },
  {
   "cell_type": "code",
   "execution_count": 66,
   "outputs": [
    {
     "ename": "ValueError",
     "evalue": "not enough values to unpack (expected 2, got 0)",
     "output_type": "error",
     "traceback": [
      "\u001B[0;31m---------------------------------------------------------------------------\u001B[0m",
      "\u001B[0;31mValueError\u001B[0m                                Traceback (most recent call last)",
      "Cell \u001B[0;32mIn[66], line 2\u001B[0m\n\u001B[1;32m      1\u001B[0m \u001B[38;5;66;03m# https://www.hackerrank.com/challenges/np-sum-and-prod/problem\u001B[39;00m\n\u001B[0;32m----> 2\u001B[0m n, m \u001B[38;5;241m=\u001B[39m \u001B[38;5;28mtuple\u001B[39m(\u001B[38;5;28mint\u001B[39m(x) \u001B[38;5;28;01mfor\u001B[39;00m x \u001B[38;5;129;01min\u001B[39;00m \u001B[38;5;28minput\u001B[39m()\u001B[38;5;241m.\u001B[39msplit())\n\u001B[1;32m      4\u001B[0m array \u001B[38;5;241m=\u001B[39m numpy\u001B[38;5;241m.\u001B[39marray([[\u001B[38;5;28mint\u001B[39m(x) \u001B[38;5;28;01mfor\u001B[39;00m x \u001B[38;5;129;01min\u001B[39;00m \u001B[38;5;28minput\u001B[39m()\u001B[38;5;241m.\u001B[39msplit()][:m] \u001B[38;5;28;01mfor\u001B[39;00m _ \u001B[38;5;129;01min\u001B[39;00m \u001B[38;5;28mrange\u001B[39m(n)])\n\u001B[1;32m      5\u001B[0m s \u001B[38;5;241m=\u001B[39m numpy\u001B[38;5;241m.\u001B[39msum(array,axis\u001B[38;5;241m=\u001B[39m\u001B[38;5;241m0\u001B[39m)\n",
      "\u001B[0;31mValueError\u001B[0m: not enough values to unpack (expected 2, got 0)"
     ]
    }
   ],
   "source": [
    "# https://www.hackerrank.com/challenges/np-sum-and-prod/problem\n",
    "n, m = tuple(int(x) for x in input().split())\n",
    "\n",
    "array = numpy.array([[int(x) for x in input().split()][:m] for _ in range(n)])\n",
    "s = numpy.sum(array,axis=0)\n",
    "print(numpy.product(s))"
   ],
   "metadata": {
    "collapsed": false,
    "ExecuteTime": {
     "start_time": "2023-04-09T17:25:04.768901Z",
     "end_time": "2023-04-09T17:25:04.771090Z"
    }
   }
  },
  {
   "cell_type": "code",
   "execution_count": 67,
   "outputs": [
    {
     "ename": "ValueError",
     "evalue": "not enough values to unpack (expected 2, got 0)",
     "output_type": "error",
     "traceback": [
      "\u001B[0;31m---------------------------------------------------------------------------\u001B[0m",
      "\u001B[0;31mValueError\u001B[0m                                Traceback (most recent call last)",
      "Cell \u001B[0;32mIn[67], line 2\u001B[0m\n\u001B[1;32m      1\u001B[0m \u001B[38;5;66;03m# https://www.hackerrank.com/challenges/np-min-and-max/problem\u001B[39;00m\n\u001B[0;32m----> 2\u001B[0m n, m \u001B[38;5;241m=\u001B[39m \u001B[38;5;28mtuple\u001B[39m(\u001B[38;5;28mint\u001B[39m(x) \u001B[38;5;28;01mfor\u001B[39;00m x \u001B[38;5;129;01min\u001B[39;00m \u001B[38;5;28minput\u001B[39m()\u001B[38;5;241m.\u001B[39msplit())\n\u001B[1;32m      4\u001B[0m array \u001B[38;5;241m=\u001B[39m numpy\u001B[38;5;241m.\u001B[39marray([[\u001B[38;5;28mint\u001B[39m(x) \u001B[38;5;28;01mfor\u001B[39;00m x \u001B[38;5;129;01min\u001B[39;00m \u001B[38;5;28minput\u001B[39m()\u001B[38;5;241m.\u001B[39msplit()][:m] \u001B[38;5;28;01mfor\u001B[39;00m _ \u001B[38;5;129;01min\u001B[39;00m \u001B[38;5;28mrange\u001B[39m(n)])\n\u001B[1;32m      5\u001B[0m m \u001B[38;5;241m=\u001B[39m numpy\u001B[38;5;241m.\u001B[39mmin(array, axis\u001B[38;5;241m=\u001B[39m\u001B[38;5;241m1\u001B[39m)\n",
      "\u001B[0;31mValueError\u001B[0m: not enough values to unpack (expected 2, got 0)"
     ]
    }
   ],
   "source": [
    "# https://www.hackerrank.com/challenges/np-min-and-max/problem\n",
    "n, m = tuple(int(x) for x in input().split())\n",
    "\n",
    "array = numpy.array([[int(x) for x in input().split()][:m] for _ in range(n)])\n",
    "m = numpy.min(array, axis=1)\n",
    "print(numpy.max(m))"
   ],
   "metadata": {
    "collapsed": false
   }
  },
  {
   "cell_type": "code",
   "execution_count": 68,
   "outputs": [
    {
     "ename": "ValueError",
     "evalue": "not enough values to unpack (expected 2, got 0)",
     "output_type": "error",
     "traceback": [
      "\u001B[0;31m---------------------------------------------------------------------------\u001B[0m",
      "\u001B[0;31mValueError\u001B[0m                                Traceback (most recent call last)",
      "Cell \u001B[0;32mIn[68], line 2\u001B[0m\n\u001B[1;32m      1\u001B[0m \u001B[38;5;66;03m# https://www.hackerrank.com/challenges/np-mean-var-and-std/problem\u001B[39;00m\n\u001B[0;32m----> 2\u001B[0m n, m \u001B[38;5;241m=\u001B[39m \u001B[38;5;28mtuple\u001B[39m(\u001B[38;5;28mint\u001B[39m(x) \u001B[38;5;28;01mfor\u001B[39;00m x \u001B[38;5;129;01min\u001B[39;00m \u001B[38;5;28minput\u001B[39m()\u001B[38;5;241m.\u001B[39msplit())\n\u001B[1;32m      4\u001B[0m array \u001B[38;5;241m=\u001B[39m numpy\u001B[38;5;241m.\u001B[39marray([[\u001B[38;5;28mint\u001B[39m(x) \u001B[38;5;28;01mfor\u001B[39;00m x \u001B[38;5;129;01min\u001B[39;00m \u001B[38;5;28minput\u001B[39m()\u001B[38;5;241m.\u001B[39msplit()][:m] \u001B[38;5;28;01mfor\u001B[39;00m _ \u001B[38;5;129;01min\u001B[39;00m \u001B[38;5;28mrange\u001B[39m(n)])\n\u001B[1;32m      5\u001B[0m numpy\u001B[38;5;241m.\u001B[39mset_printoptions(legacy\u001B[38;5;241m=\u001B[39m\u001B[38;5;124m\"\u001B[39m\u001B[38;5;124m1.13\u001B[39m\u001B[38;5;124m\"\u001B[39m)\n",
      "\u001B[0;31mValueError\u001B[0m: not enough values to unpack (expected 2, got 0)"
     ]
    }
   ],
   "source": [
    "# https://www.hackerrank.com/challenges/np-mean-var-and-std/problem\n",
    "n, m = tuple(int(x) for x in input().split())\n",
    "\n",
    "array = numpy.array([[int(x) for x in input().split()][:m] for _ in range(n)])\n",
    "numpy.set_printoptions(legacy=\"1.13\")\n",
    "print(numpy.mean(array,axis=1))\n",
    "print(numpy.var(array,axis=0))\n",
    "print(round((numpy.std(array)), 11))"
   ],
   "metadata": {
    "collapsed": false
   }
  },
  {
   "cell_type": "code",
   "execution_count": 69,
   "outputs": [
    {
     "name": "stdout",
     "output_type": "stream",
     "text": [
      "[[ 4 10]\n",
      " [18 28]]\n"
     ]
    }
   ],
   "source": [
    "# https://www.hackerrank.com/challenges/np-dot-and-cross/problem\n",
    "n = int(input())\n",
    "\n",
    "a = numpy.array([[int(x) for x in input().split()][:n] for _ in range(n)])\n",
    "b = numpy.array([[int(x) for x in input().split()][:n] for _ in range(n)])\n",
    "print(numpy.dot(a,b))"
   ],
   "metadata": {
    "collapsed": false,
    "ExecuteTime": {
     "start_time": "2023-04-09T18:08:11.912189Z",
     "end_time": "2023-04-09T18:08:29.887772Z"
    }
   }
  },
  {
   "cell_type": "code",
   "execution_count": null,
   "outputs": [],
   "source": [],
   "metadata": {
    "collapsed": false
   }
  }
 ],
 "metadata": {
  "kernelspec": {
   "name": "venv",
   "language": "python",
   "display_name": "venv"
  },
  "language_info": {
   "codemirror_mode": {
    "name": "ipython",
    "version": 2
   },
   "file_extension": ".py",
   "mimetype": "text/x-python",
   "name": "python",
   "nbconvert_exporter": "python",
   "pygments_lexer": "ipython2",
   "version": "2.7.6"
  }
 },
 "nbformat": 4,
 "nbformat_minor": 0
}
