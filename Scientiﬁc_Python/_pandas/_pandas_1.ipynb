{
 "cells": [
  {
   "cell_type": "markdown",
   "source": [
    "## What is pandas ?\n",
    "Pandas is a Python library used for working with data sets.\n",
    "It has functions for analyzing, cleaning, exploring, and manipulating data.\n",
    "\n",
    "## Why do use Pandas?\n",
    "Pandas allows us to analyze big data and make conclusions based on statistical theories.\n",
    "Pandas can clean messy data sets, and make them readable and relevant.\n",
    "Relevant data is very important in data science.\n",
    "\n",
    "### What Can Pandas Do?\n",
    "Pandas gives you answers about the data. Like:\n",
    "\n",
    "Is there a correlation between two or more columns?\n",
    "What is average value?\n",
    "Max value?\n",
    "Min value?\n",
    "Pandas are also able to delete rows that are not relevant, or contains wrong values, like empty or NULL values. This is called cleaning the data."
   ],
   "metadata": {
    "collapsed": false
   }
  },
  {
   "cell_type": "code",
   "execution_count": 1,
   "outputs": [
    {
     "name": "stdout",
     "output_type": "stream",
     "text": [
      "    cars  passing\n",
      "0    BMW        3\n",
      "1  Volvo        7\n",
      "2   Ford        2\n"
     ]
    }
   ],
   "source": [
    "# dataframe\n",
    "import pandas\n",
    "\n",
    "my_data_set = {\n",
    "    \"cars\": [\"BMW\", \"Volvo\", \"Ford\"],\n",
    "    \"passing\": [3, 7, 2]\n",
    "}\n",
    "my_var = pandas.DataFrame(my_data_set)\n",
    "print(my_var)"
   ],
   "metadata": {
    "collapsed": false
   }
  },
  {
   "cell_type": "code",
   "execution_count": 4,
   "outputs": [
    {
     "name": "stdout",
     "output_type": "stream",
     "text": [
      "0    1\n",
      "1    7\n",
      "2    2\n",
      "dtype: int64\n"
     ]
    }
   ],
   "source": [
    "# series\n",
    "import pandas as pd\n",
    "\n",
    "a = [1, 7, 2]\n",
    "my_var = pd.Series(a)\n",
    "print(my_var)"
   ],
   "metadata": {
    "collapsed": false
   }
  },
  {
   "cell_type": "code",
   "execution_count": 7,
   "outputs": [
    {
     "name": "stdout",
     "output_type": "stream",
     "text": [
      "x    1\n",
      "y    7\n",
      "z    2\n",
      "dtype: int64\n",
      "1\n"
     ]
    }
   ],
   "source": [
    "# Create level\n",
    "import pandas as pd\n",
    "\n",
    "a = [1, 7, 2]\n",
    "my_var = pd.Series(a, index=[\"x\", \"y\", \"z\"])\n",
    "print(my_var)\n",
    "print(my_var['x'])"
   ],
   "metadata": {
    "collapsed": false
   }
  },
  {
   "cell_type": "code",
   "execution_count": 46,
   "outputs": [
    {
     "name": "stdout",
     "output_type": "stream",
     "text": [
      "day1    420\n",
      "day2    380\n",
      "day3    390\n",
      "dtype: int64\n"
     ]
    }
   ],
   "source": [
    "# dictionary to pandas series\n",
    "import pandas as pd\n",
    "\n",
    "calories = {\"day1\": 420, \"day2\": 380, \"day3\": 390}\n",
    "\n",
    "myvar = pd.Series(calories)\n",
    "\n",
    "print(myvar)"
   ],
   "metadata": {
    "collapsed": false
   }
  },
  {
   "cell_type": "code",
   "execution_count": 3,
   "outputs": [
    {
     "name": "stdout",
     "output_type": "stream",
     "text": [
      "   calories  duration   d\n",
      "0       420        50  50\n",
      "1       380        40  40\n",
      "2       390        45  45\n",
      "\n",
      "calories    1190\n",
      "duration     135\n",
      "d            135\n",
      "dtype: int64\n"
     ]
    }
   ],
   "source": [
    "# Create dataframe()\n",
    "import pandas as pd\n",
    "\n",
    "data = {\n",
    "    \"calories\": [420, 380, 390],\n",
    "    \"duration\": [50, 40, 45],\n",
    "    \"d\": [50, 40, 45],\n",
    "}\n",
    "my_var = pd.DataFrame(data)\n",
    "# [row,col]\n",
    "print(my_var)\n",
    "print()\n",
    "print(my_var.sum())"
   ],
   "metadata": {
    "collapsed": false,
    "ExecuteTime": {
     "start_time": "2023-04-25T18:58:08.870967Z",
     "end_time": "2023-04-25T18:58:08.874219Z"
    }
   }
  },
  {
   "cell_type": "code",
   "execution_count": 4,
   "outputs": [
    {
     "name": "stdout",
     "output_type": "stream",
     "text": [
      "   calories  duration   d  every_sum\n",
      "0       420        50  50        100\n",
      "1       380        40  40         80\n",
      "2       390        45  45         90\n"
     ]
    }
   ],
   "source": [
    "# sum col wise value\n",
    "import pandas as pd\n",
    "\n",
    "data = {\n",
    "    \"calories\": [420, 380, 390],\n",
    "    \"duration\": [50, 40, 45],\n",
    "    \"d\": [50, 40, 45],\n",
    "}\n",
    "my_var = pd.DataFrame(data)\n",
    "my_var[\"every_sum\"] = my_var.eval('duration+d')\n",
    "print(my_var)"
   ],
   "metadata": {
    "collapsed": false,
    "ExecuteTime": {
     "start_time": "2023-04-25T19:04:08.957421Z",
     "end_time": "2023-04-25T19:04:09.002673Z"
    }
   }
  }
 ],
 "metadata": {
  "kernelspec": {
   "name": "venv",
   "language": "python",
   "display_name": "venv"
  },
  "language_info": {
   "codemirror_mode": {
    "name": "ipython",
    "version": 2
   },
   "file_extension": ".py",
   "mimetype": "text/x-python",
   "name": "python",
   "nbconvert_exporter": "python",
   "pygments_lexer": "ipython2",
   "version": "2.7.6"
  }
 },
 "nbformat": 4,
 "nbformat_minor": 0
}
