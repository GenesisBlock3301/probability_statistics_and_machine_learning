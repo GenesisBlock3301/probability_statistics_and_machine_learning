{
 "cells": [
  {
   "cell_type": "code",
   "execution_count": 1,
   "metadata": {
    "collapsed": true
   },
   "outputs": [],
   "source": [
    "# Follow my notebook\n",
    "\n",
    "import numpy as np"
   ]
  },
  {
   "cell_type": "code",
   "execution_count": 2,
   "outputs": [
    {
     "name": "stdout",
     "output_type": "stream",
     "text": [
      "3.5\n"
     ]
    }
   ],
   "source": [
    "from numpy import mean\n",
    "v = np.array([1,2,3,4,5,6])\n",
    "print(mean(v))"
   ],
   "metadata": {
    "collapsed": false
   }
  },
  {
   "cell_type": "code",
   "execution_count": 10,
   "outputs": [
    {
     "name": "stdout",
     "output_type": "stream",
     "text": [
      "[2.5 2.  3.  4.  5.  6. ] [3.5 4. ]\n"
     ]
    }
   ],
   "source": [
    "#multi dimensional\n",
    "M = np.array([\n",
    "    [1,2,3,4,5,6],\n",
    "    [4,2,3,4,5,6],\n",
    "])\n",
    "col_mean = mean(M, axis=0)\n",
    "row_mean = mean(M, axis=1)\n",
    "print(col_mean, row_mean)"
   ],
   "metadata": {
    "collapsed": false
   }
  },
  {
   "cell_type": "code",
   "execution_count": 16,
   "outputs": [
    {
     "name": "stdout",
     "output_type": "stream",
     "text": [
      "[2.25 0.   0.   0.   0.  ]\n",
      "[2.   1.04]\n"
     ]
    }
   ],
   "source": [
    "# Variance\n",
    "from numpy import var\n",
    "import math\n",
    "\n",
    "# v = np.array([1,2,3,4,5])\n",
    "M = np.array([\n",
    "    [1,2,3,4,5],\n",
    "    [4,2,3,4,5],\n",
    "])\n",
    "col_var = var(M,axis=0)\n",
    "print(col_var)\n",
    "row_var = var(M, axis=1)\n",
    "print(row_var)"
   ],
   "metadata": {
    "collapsed": false
   }
  },
  {
   "cell_type": "code",
   "execution_count": null,
   "outputs": [],
   "source": [
    "# standard deviation\n",
    "from numpy import std\n",
    "# define matrix\n",
    "M = np.array([\n",
    "    [1,2,3,4,5,6],\n",
    "    [1,2,3,4,5,6]\n",
    "])\n",
    "col_std = std(M,)\n",
    "print(M)"
   ],
   "metadata": {
    "collapsed": false
   }
  },
  {
   "cell_type": "code",
   "execution_count": null,
   "outputs": [],
   "source": [
    "# Co-variance and co-relation"
   ],
   "metadata": {
    "collapsed": false
   }
  }
 ],
 "metadata": {
  "kernelspec": {
   "name": "venv",
   "language": "python",
   "display_name": "venv"
  },
  "language_info": {
   "codemirror_mode": {
    "name": "ipython",
    "version": 2
   },
   "file_extension": ".py",
   "mimetype": "text/x-python",
   "name": "python",
   "nbconvert_exporter": "python",
   "pygments_lexer": "ipython2",
   "version": "2.7.6"
  }
 },
 "nbformat": 4,
 "nbformat_minor": 0
}
