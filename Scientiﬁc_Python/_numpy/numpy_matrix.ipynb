{
 "cells": [
  {
   "cell_type": "code",
   "execution_count": null,
   "metadata": {
    "collapsed": true,
    "pycharm": {
     "is_executing": true
    }
   },
   "outputs": [],
   "source": [
    "import numpy as np\n",
    "\n",
    "a = np.matrix([\n",
    "    [1,2,3],\n",
    "    [4,5,6],\n",
    "    [7,8,9]\n",
    "])\n",
    "b = np.matrix([[1],[0],[0]])\n",
    "print(a*b, a.dot(b))\n",
    "print(type(a))"
   ]
  },
  {
   "cell_type": "code",
   "execution_count": 11,
   "outputs": [
    {
     "name": "stdout",
     "output_type": "stream",
     "text": [
      "[[0 2]\n",
      " [0 2]]\n"
     ]
    }
   ],
   "source": [
    "# numpy broadcasting\n",
    "import numpy as np\n",
    "\n",
    "x = np.array([np.arange(2), np.arange(2)], dtype=np.int)\n",
    "y = np.array([np.arange(2), np.arange(2)], dtype=np.int)\n",
    "d = x+y\n",
    "print(d)"
   ],
   "metadata": {
    "collapsed": false
   }
  },
  {
   "cell_type": "code",
   "execution_count": null,
   "outputs": [],
   "source": [
    "import numpy as np\n",
    "a = np.array([[1],[2]])\n",
    "print(a.shape)\n",
    "b = np.array([[1]])\n",
    "print(b.shape)\n",
    "print()\n",
    "print(a+b)"
   ],
   "metadata": {
    "collapsed": false,
    "pycharm": {
     "is_executing": true
    }
   }
  },
  {
   "cell_type": "code",
   "execution_count": null,
   "outputs": [],
   "source": [
    "import numpy as np\n",
    "\n",
    "a = np.array([0,1,3])\n",
    "b = np.array([1,2])\n",
    "print(a+b)"
   ],
   "metadata": {
    "collapsed": false,
    "pycharm": {
     "is_executing": true
    }
   }
  }
 ],
 "metadata": {
  "kernelspec": {
   "display_name": "Python 2",
   "language": "python",
   "name": "python2"
  },
  "language_info": {
   "codemirror_mode": {
    "name": "ipython",
    "version": 2
   },
   "file_extension": ".py",
   "mimetype": "text/x-python",
   "name": "python",
   "nbconvert_exporter": "python",
   "pygments_lexer": "ipython2",
   "version": "2.7.6"
  }
 },
 "nbformat": 4,
 "nbformat_minor": 0
}
