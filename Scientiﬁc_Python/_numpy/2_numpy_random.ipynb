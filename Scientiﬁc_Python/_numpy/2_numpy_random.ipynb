{
 "cells": [
  {
   "cell_type": "markdown",
   "source": [
    "### Numpy Random number\n",
    "- Random number doesn't mean a different number every time, Random means something that can not be predicted logically."
   ],
   "metadata": {
    "collapsed": false
   }
  },
  {
   "cell_type": "code",
   "execution_count": 7,
   "outputs": [
    {
     "name": "stdout",
     "output_type": "stream",
     "text": [
      "[74 29 54 75 50 95 14 33 27 53]\n",
      "[5.60815072e-01 8.75392613e-01 2.28358928e-01 6.92235658e-01\n",
      " 5.63027918e-01 6.93139945e-01 7.08326263e-04 4.77570866e-01\n",
      " 4.39525135e-01 8.80466390e-01 2.20498945e-02 2.55116857e-01\n",
      " 3.24237695e-02 9.34036434e-01 7.10153068e-01 9.87255719e-01\n",
      " 1.16468421e-01 9.76771466e-01 5.32316187e-01 4.46330206e-01\n",
      " 8.43871491e-01 7.62307714e-01 5.90381515e-01 9.50433854e-02\n",
      " 1.04646822e-01 8.26439580e-01 3.27217507e-01 6.16222562e-01\n",
      " 2.34944837e-01 6.65765411e-01 5.71069709e-01 7.56035906e-01\n",
      " 9.29868629e-01 9.24006428e-01 9.76178054e-01 1.48382491e-01\n",
      " 8.18658164e-01 4.88204928e-01 8.70265888e-01 3.76424289e-01\n",
      " 5.08448498e-03 4.41933515e-01 4.97427242e-01 3.00177096e-01\n",
      " 4.75467670e-01 6.43831926e-01 9.69981549e-01 5.14369483e-02\n",
      " 3.81950017e-01 2.22364751e-01 1.05288111e-01 1.15866796e-01\n",
      " 6.03247956e-02 9.43570911e-01 8.18510029e-01 8.86585708e-01\n",
      " 5.85363492e-01 9.36303795e-01 5.47047113e-01 4.08142766e-01\n",
      " 1.53991539e-01 8.10168123e-01 7.21171526e-01 1.01164827e-01\n",
      " 2.93894511e-01 8.61909384e-02 1.26116961e-01 6.56722065e-01\n",
      " 3.22133576e-01 2.16349882e-01 4.39498062e-01 8.37036304e-01\n",
      " 5.11184052e-01 1.90097322e-01 7.18327685e-01 3.72180417e-01\n",
      " 8.16137539e-01 3.42511345e-01 6.17994750e-01 2.97832248e-01\n",
      " 1.84341126e-01 8.52242683e-01 9.39722615e-01 3.86295558e-01\n",
      " 3.49374311e-02 7.63983550e-01 9.06193713e-02 5.62033201e-01\n",
      " 5.33013621e-02 1.80148933e-01 3.47483026e-02 2.08619496e-01\n",
      " 9.29921954e-01 2.65757849e-01 4.36483698e-01 4.28092459e-01\n",
      " 8.17902583e-01 9.72413249e-01 5.58176151e-01 6.35671019e-02]\n"
     ]
    }
   ],
   "source": [
    "# simple random number generator\n",
    "import numpy as np\n",
    "\n",
    "x = np.random.randint(100, size=10)\n",
    "print(\"10 random numpy value within 1000\", x)\n",
    "\n",
    "y = np.random.rand(100)\n",
    "print(y)"
   ],
   "metadata": {
    "collapsed": false
   }
  },
  {
   "cell_type": "markdown",
   "source": [
    "### Generate 2D array"
   ],
   "metadata": {
    "collapsed": false
   }
  },
  {
   "cell_type": "code",
   "execution_count": 10,
   "outputs": [
    {
     "name": "stdout",
     "output_type": "stream",
     "text": [
      "[[ 3 70 36 52 55]\n",
      " [67 90 20 80  6]\n",
      " [78 77 46 21 79]]\n"
     ]
    }
   ],
   "source": [
    "# (row, column)\n",
    "x = np.random.randint(100, size=(3,5))\n",
    "print(x)"
   ],
   "metadata": {
    "collapsed": false
   }
  },
  {
   "cell_type": "markdown",
   "source": [
    "### Generate random number from Array"
   ],
   "metadata": {
    "collapsed": false
   }
  },
  {
   "cell_type": "code",
   "execution_count": 11,
   "outputs": [
    {
     "name": "stdout",
     "output_type": "stream",
     "text": [
      "1\n"
     ]
    }
   ],
   "source": [
    "import numpy as np\n",
    "\n",
    "x = np.random.choice([1,2,3,4,5])\n",
    "print(x)"
   ],
   "metadata": {
    "collapsed": false
   }
  }
 ],
 "metadata": {
  "kernelspec": {
   "name": "venv",
   "language": "python",
   "display_name": "venv"
  },
  "language_info": {
   "codemirror_mode": {
    "name": "ipython",
    "version": 2
   },
   "file_extension": ".py",
   "mimetype": "text/x-python",
   "name": "python",
   "nbconvert_exporter": "python",
   "pygments_lexer": "ipython2",
   "version": "2.7.6"
  }
 },
 "nbformat": 4,
 "nbformat_minor": 0
}
