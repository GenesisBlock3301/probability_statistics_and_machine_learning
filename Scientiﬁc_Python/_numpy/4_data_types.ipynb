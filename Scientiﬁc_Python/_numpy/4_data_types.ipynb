{
 "cells": [
  {
   "metadata": {},
   "cell_type": "markdown",
   "source": [
    "## Data Types in Python\n",
    "\n",
    "By default Python have these data types:\n",
    "- **strings** - used to represent text data, the text is given under quote marks. e.g. \"ABCD\"\n",
    "- **integer** - used to represent integer numbers. e.g. -1, -2, -3\n",
    "- **float** - used to represent real numbers. e.g. 1.2, 42.42\n",
    "- **boolean** - used to represent True or False.\n",
    "- **complex** - used to represent complex numbers. e.g. 1.0 + 2.0j, 1.5 + 2.5j\n",
    "\n",
    "## Data Types in NumPy\n",
    "NumPy has some extra data types, and refer to data types with one character, like i for integers, u for unsigned integers etc.\n",
    "Below is a list of all data types in NumPy and the characters used to represent them.\n",
    "\n",
    "    i - integer\n",
    "    b - boolean\n",
    "    u - unsigned integer\n",
    "    f - float\n",
    "    c - complex float\n",
    "    m - timedelta\n",
    "    M - datetime\n",
    "    O - object\n",
    "    S - string\n",
    "    U - unicode string\n",
    "    V - fixed chunk of memory for other type ( void )\n"
   ],
   "id": "ab966026ceda4a26"
  },
  {
   "metadata": {
    "ExecuteTime": {
     "end_time": "2024-05-06T09:48:40.256480Z",
     "start_time": "2024-05-06T09:48:40.187077Z"
    }
   },
   "cell_type": "code",
   "source": "import numpy as np",
   "id": "f783d634fd53bf1",
   "outputs": [],
   "execution_count": 1
  },
  {
   "metadata": {
    "ExecuteTime": {
     "end_time": "2024-05-06T09:53:42.736499Z",
     "start_time": "2024-05-06T09:53:42.732232Z"
    }
   },
   "cell_type": "code",
   "source": [
    "arr = np.array([1, 2, 3, 4])\n",
    "print(\"checking data-type: \", arr.dtype)\n",
    "arr = np.array(['a', 'b', 'c'])\n",
    "print(\"checking data-type: \", arr.dtype)\n",
    "arr = np.array([1,2,3,4,5], dtype='S')\n",
    "print(\"array defined data-type: \", arr.dtype)\n",
    "arr = np.array([1,2,3,4,5], dtype='i4')\n",
    "print(arr.dtype)"
   ],
   "id": "e4c66cea1047d3b1",
   "outputs": [
    {
     "name": "stdout",
     "output_type": "stream",
     "text": [
      "checking data-type:  int64\n",
      "checking data-type:  <U1\n",
      "array defined data-type:  |S1\n",
      "int32\n"
     ]
    }
   ],
   "execution_count": 9
  },
  {
   "metadata": {
    "ExecuteTime": {
     "end_time": "2024-05-06T09:54:22.052626Z",
     "start_time": "2024-05-06T09:54:22.038787Z"
    }
   },
   "cell_type": "code",
   "source": "arr = np.array(['a', '2', '3'], dtype='i')",
   "id": "72222dfd321c5da3",
   "outputs": [
    {
     "ename": "ValueError",
     "evalue": "invalid literal for int() with base 10: 'a'",
     "output_type": "error",
     "traceback": [
      "\u001B[0;31m---------------------------------------------------------------------------\u001B[0m",
      "\u001B[0;31mValueError\u001B[0m                                Traceback (most recent call last)",
      "Cell \u001B[0;32mIn[10], line 1\u001B[0m\n\u001B[0;32m----> 1\u001B[0m arr \u001B[38;5;241m=\u001B[39m \u001B[43mnp\u001B[49m\u001B[38;5;241;43m.\u001B[39;49m\u001B[43marray\u001B[49m\u001B[43m(\u001B[49m\u001B[43m[\u001B[49m\u001B[38;5;124;43m'\u001B[39;49m\u001B[38;5;124;43ma\u001B[39;49m\u001B[38;5;124;43m'\u001B[39;49m\u001B[43m,\u001B[49m\u001B[43m \u001B[49m\u001B[38;5;124;43m'\u001B[39;49m\u001B[38;5;124;43m2\u001B[39;49m\u001B[38;5;124;43m'\u001B[39;49m\u001B[43m,\u001B[49m\u001B[43m \u001B[49m\u001B[38;5;124;43m'\u001B[39;49m\u001B[38;5;124;43m3\u001B[39;49m\u001B[38;5;124;43m'\u001B[39;49m\u001B[43m]\u001B[49m\u001B[43m,\u001B[49m\u001B[43m \u001B[49m\u001B[43mdtype\u001B[49m\u001B[38;5;241;43m=\u001B[39;49m\u001B[38;5;124;43m'\u001B[39;49m\u001B[38;5;124;43mi\u001B[39;49m\u001B[38;5;124;43m'\u001B[39;49m\u001B[43m)\u001B[49m\n",
      "\u001B[0;31mValueError\u001B[0m: invalid literal for int() with base 10: 'a'"
     ]
    }
   ],
   "execution_count": 10
  },
  {
   "metadata": {
    "ExecuteTime": {
     "end_time": "2024-05-06T09:55:32.359558Z",
     "start_time": "2024-05-06T09:55:32.355600Z"
    }
   },
   "cell_type": "code",
   "source": [
    "arr = np.array([1.1, 2.1, 3.1])\n",
    "new_arr = arr.astype('i') # we can also use int\n",
    "print(new_arr)\n",
    "print(new_arr.dtype) "
   ],
   "id": "dab1d7df40eb4911",
   "outputs": [
    {
     "name": "stdout",
     "output_type": "stream",
     "text": [
      "[1 2 3]\n",
      "int64\n"
     ]
    }
   ],
   "execution_count": 12
  },
  {
   "metadata": {},
   "cell_type": "code",
   "outputs": [],
   "execution_count": null,
   "source": "",
   "id": "9c5711ce3f7dd39c"
  }
 ],
 "metadata": {
  "kernelspec": {
   "display_name": "Python 3",
   "language": "python",
   "name": "python3"
  },
  "language_info": {
   "codemirror_mode": {
    "name": "ipython",
    "version": 2
   },
   "file_extension": ".py",
   "mimetype": "text/x-python",
   "name": "python",
   "nbconvert_exporter": "python",
   "pygments_lexer": "ipython2",
   "version": "2.7.6"
  }
 },
 "nbformat": 4,
 "nbformat_minor": 5
}
