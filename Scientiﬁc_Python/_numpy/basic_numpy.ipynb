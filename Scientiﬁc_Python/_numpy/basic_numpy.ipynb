{
 "cells": [
  {
   "cell_type": "code",
   "execution_count": 2,
   "metadata": {
    "collapsed": true
   },
   "outputs": [
    {
     "name": "stdout",
     "output_type": "stream",
     "text": [
      "(3,)\n",
      "3\n",
      "4\n"
     ]
    }
   ],
   "source": [
    "import numpy as np\n",
    "x = np.array([1,2,3], dtype=np.float32)\n",
    "# show items\n",
    "# print(x)\n",
    "# shape of array\n",
    "print (x.shape)\n",
    "print(x.size)\n",
    "# number of byte per item\n",
    "print(x.itemsize)"
   ]
  },
  {
   "cell_type": "code",
   "execution_count": 3,
   "outputs": [
    {
     "name": "stdout",
     "output_type": "stream",
     "text": [
      "[0.841471  0.9092974 0.14112  ]\n"
     ]
    }
   ],
   "source": [
    "import numpy as np\n",
    "\n",
    "#uniform container means  single data type that is used to store elements in a collection of data\n",
    "sin_arr = np.sin(np.array([1,2,3], dtype=np.float32))\n",
    "print(sin_arr)"
   ],
   "metadata": {
    "collapsed": false
   }
  },
  {
   "cell_type": "code",
   "execution_count": 4,
   "outputs": [
    {
     "name": "stdout",
     "output_type": "stream",
     "text": [
      "[4]\n",
      "[[3 2 1]\n",
      " [4 2 1]]\n"
     ]
    }
   ],
   "source": [
    "import numpy as np\n",
    "# find shape  (row, column)\n",
    "arr = np.array([[1,2,3],[1, 2,4]])\n",
    "# print(arr.shape)\n",
    "# print(arr[-1])\n",
    "# [simple_slicing:, column_number]\n",
    "print(arr[1:,2])\n",
    "# first row and last column [simple list operation, column operation]\n",
    "print(arr[:,::-1])"
   ],
   "metadata": {
    "collapsed": false
   }
  },
  {
   "cell_type": "code",
   "execution_count": 1,
   "outputs": [
    {
     "name": "stdout",
     "output_type": "stream",
     "text": [
      "(3, 1)\n"
     ]
    }
   ],
   "source": [
    "import numpy as np\n",
    "\n",
    "a = np.array([[1],[2],[3]])\n",
    "print(a.shape)"
   ],
   "metadata": {
    "collapsed": false
   }
  },
  {
   "cell_type": "code",
   "execution_count": 3,
   "outputs": [
    {
     "name": "stdout",
     "output_type": "stream",
     "text": [
      "[1 2 3 4 5 5]\n"
     ]
    }
   ],
   "source": [
    "# one dimensional list to array\n",
    "import numpy as np\n",
    "\n",
    "data = [1,2,3,4,5,5]\n",
    "a = np.array(data)\n",
    "print(a)\n"
   ],
   "metadata": {
    "collapsed": false
   }
  },
  {
   "cell_type": "code",
   "execution_count": null,
   "outputs": [],
   "source": [
    "# Indexing\n"
   ],
   "metadata": {
    "collapsed": false
   }
  }
 ],
 "metadata": {
  "kernelspec": {
   "name": "venv",
   "language": "python",
   "display_name": "venv"
  },
  "language_info": {
   "codemirror_mode": {
    "name": "ipython",
    "version": 2
   },
   "file_extension": ".py",
   "mimetype": "text/x-python",
   "name": "python",
   "nbconvert_exporter": "python",
   "pygments_lexer": "ipython2",
   "version": "2.7.6"
  }
 },
 "nbformat": 4,
 "nbformat_minor": 0
}
