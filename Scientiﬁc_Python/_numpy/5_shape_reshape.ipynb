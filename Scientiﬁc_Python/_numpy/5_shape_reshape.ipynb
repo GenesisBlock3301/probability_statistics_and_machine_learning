{
 "cells": [
  {
   "metadata": {},
   "cell_type": "markdown",
   "source": [
    "### Shape of an Array\n",
    "The shape of an array is the number of elements in each dimension.\n"
   ],
   "id": "16309f0f0eaab9fc"
  },
  {
   "metadata": {
    "ExecuteTime": {
     "end_time": "2024-05-06T10:12:29.429875Z",
     "start_time": "2024-05-06T10:12:29.364914Z"
    }
   },
   "cell_type": "code",
   "source": "import numpy as np",
   "id": "615c6d3f161fa2eb",
   "outputs": [],
   "execution_count": 1
  },
  {
   "metadata": {
    "ExecuteTime": {
     "end_time": "2024-05-06T10:12:51.523256Z",
     "start_time": "2024-05-06T10:12:51.520557Z"
    }
   },
   "cell_type": "code",
   "source": [
    "arr = np.array(0)\n",
    "print(arr.shape)"
   ],
   "id": "3d7746aae13a3b6c",
   "outputs": [
    {
     "name": "stdout",
     "output_type": "stream",
     "text": [
      "()\n"
     ]
    }
   ],
   "execution_count": 2
  },
  {
   "metadata": {
    "ExecuteTime": {
     "end_time": "2024-05-06T10:22:20.173734Z",
     "start_time": "2024-05-06T10:22:20.170254Z"
    }
   },
   "cell_type": "code",
   "source": [
    "arr = np.array([[1, 2, 3, 4], [5, 6, 7, 8]])\n",
    "print(arr.shape)"
   ],
   "id": "66f46ba591187c6b",
   "outputs": [
    {
     "name": "stdout",
     "output_type": "stream",
     "text": [
      "(2, 4)\n"
     ]
    }
   ],
   "execution_count": 4
  },
  {
   "metadata": {
    "ExecuteTime": {
     "end_time": "2024-05-06T10:22:41.284087Z",
     "start_time": "2024-05-06T10:22:41.281352Z"
    }
   },
   "cell_type": "code",
   "source": [
    "arr = np.array([1, 2, 3, 4], ndmin=5)\n",
    "print(arr.shape)"
   ],
   "id": "762c39a0d6dcabe8",
   "outputs": [
    {
     "name": "stdout",
     "output_type": "stream",
     "text": [
      "(1, 1, 1, 1, 4)\n"
     ]
    }
   ],
   "execution_count": 5
  },
  {
   "metadata": {
    "ExecuteTime": {
     "end_time": "2024-05-06T10:26:58.341585Z",
     "start_time": "2024-05-06T10:26:58.335433Z"
    }
   },
   "cell_type": "code",
   "source": [
    "arr = np.array([1, 2, 3, 4, 5, 6, 7, 8, 9, 10, 11, 12])\n",
    "new_array = arr.reshape(4,3)\n",
    "print(new_array)"
   ],
   "id": "b30cf386f7108055",
   "outputs": [
    {
     "name": "stdout",
     "output_type": "stream",
     "text": [
      "[[ 1  2  3]\n",
      " [ 4  5  6]\n",
      " [ 7  8  9]\n",
      " [10 11 12]]\n"
     ]
    }
   ],
   "execution_count": 11
  },
  {
   "metadata": {
    "ExecuteTime": {
     "end_time": "2024-05-06T11:39:23.186468Z",
     "start_time": "2024-05-06T11:39:23.183449Z"
    }
   },
   "cell_type": "code",
   "source": [
    "arr = np.array([[1, 2, 3], [4, 5, 6]])\n",
    "\n",
    "newarr = arr.reshape(-1)\n",
    "\n",
    "print(\"flatten the array\", newarr) "
   ],
   "id": "2d6a808864add400",
   "outputs": [
    {
     "name": "stdout",
     "output_type": "stream",
     "text": [
      "flatten the array [1 2 3 4 5 6]\n"
     ]
    }
   ],
   "execution_count": 13
  },
  {
   "metadata": {
    "ExecuteTime": {
     "end_time": "2024-05-06T11:40:05.113769Z",
     "start_time": "2024-05-06T11:40:05.102005Z"
    }
   },
   "cell_type": "code",
   "source": [
    "arr = np.array([1,2,3,4,45])\n",
    "arr.reshape(5,2)\n",
    "print(arr)"
   ],
   "id": "b7fab7ad8ad78155",
   "outputs": [
    {
     "ename": "ValueError",
     "evalue": "cannot reshape array of size 5 into shape (5,2)",
     "output_type": "error",
     "traceback": [
      "\u001B[0;31m---------------------------------------------------------------------------\u001B[0m",
      "\u001B[0;31mValueError\u001B[0m                                Traceback (most recent call last)",
      "Cell \u001B[0;32mIn[15], line 2\u001B[0m\n\u001B[1;32m      1\u001B[0m arr \u001B[38;5;241m=\u001B[39m np\u001B[38;5;241m.\u001B[39marray([\u001B[38;5;241m1\u001B[39m,\u001B[38;5;241m2\u001B[39m,\u001B[38;5;241m3\u001B[39m,\u001B[38;5;241m4\u001B[39m,\u001B[38;5;241m45\u001B[39m])\n\u001B[0;32m----> 2\u001B[0m \u001B[43marr\u001B[49m\u001B[38;5;241;43m.\u001B[39;49m\u001B[43mreshape\u001B[49m\u001B[43m(\u001B[49m\u001B[38;5;241;43m5\u001B[39;49m\u001B[43m,\u001B[49m\u001B[38;5;241;43m2\u001B[39;49m\u001B[43m)\u001B[49m\n\u001B[1;32m      3\u001B[0m \u001B[38;5;28mprint\u001B[39m(arr)\n",
      "\u001B[0;31mValueError\u001B[0m: cannot reshape array of size 5 into shape (5,2)"
     ]
    }
   ],
   "execution_count": 15
  }
 ],
 "metadata": {
  "kernelspec": {
   "display_name": "Python 3",
   "language": "python",
   "name": "python3"
  },
  "language_info": {
   "codemirror_mode": {
    "name": "ipython",
    "version": 2
   },
   "file_extension": ".py",
   "mimetype": "text/x-python",
   "name": "python",
   "nbconvert_exporter": "python",
   "pygments_lexer": "ipython2",
   "version": "2.7.6"
  }
 },
 "nbformat": 4,
 "nbformat_minor": 5
}
