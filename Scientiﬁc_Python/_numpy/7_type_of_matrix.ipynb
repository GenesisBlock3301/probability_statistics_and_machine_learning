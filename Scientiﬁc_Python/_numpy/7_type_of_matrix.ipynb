{
 "cells": [
  {
   "cell_type": "markdown",
   "source": [
    "### Type of Matrix\n",
    "**Square matrix:**\n",
    "   - Row and column are same.\n",
    "      - Sure, here's an example of a square matrix:\n",
    "      - A = \\begin{pmatrix} 1 & 2 & 3 \\\\ 4 & 5 & 6 \\\\ 7 & 8 & 9 \\\\ \\end{pmatrix}\n",
    "      - This is a 3x3 square matrix because it has three rows and three columns.\n",
    "      \n",
    "**Symmetric Matrix:**\n",
    "   - A symmetric matrix is a square matrix that is equal to its transpose\n",
    "   - Top-right triangle is the same as the\n",
    "   - A^T = \\begin{bmatrix} 1 & 2 & 3 \\\\ 2 & 4 & 5 \\\\ 3 & 5 & 6 \\\\ \\end{bmatrix}\n",
    "\n",
    "**Triangular Matrix:**\n",
    "   - The upper-right or lower-left\n",
    "    - \\begin{bmatrix} 1 & 2 & 3 & 4 \\\\ 0 & 5 & 6 & 7 \\\\ 0 & 0 & 6 & 9 \\\\ 0 & 0 & 0 & 10 \\end{bmatrix}  \n",
    "of the matrix with the remaining elements filled with zero values.\n",
    "\n",
    "**Diagonal Matrix:**\n",
    "  - The main diagonal is taken from the top left of the matrix to the bottom right.\n",
    "  - \\begin{bmatrix} 2 & 0 & 0 \\\\ 0 & 5 & 0 \\\\ 0 & 0 & 6  \\end{bmatrix}\n",
    "\n",
    "**Identity Matrix:**\n",
    "  - The main diagonal (top to bottom-right) have the value one, while all other values are zero.\n",
    "  - I = \\begin{bmatrix} 1 & 0 & 0 \\\\ 0 & 1 & 0 \\\\ 0 & 0 & 1  \\end{bmatrix}\n",
    "- Orthogonal Matrix\n",
    "  - v · w T = 0\n",
    "\n",
    "### Matrix Operation:\n",
    "#### Transpose\n",
    "   - ![Alt text](matrix_pic/transpose_matrix.png)\n",
    "#### Inverse\n",
    "   - ![Alt text](matrix_pic/inverse_matrix.png)\n",
    "#### Trace\n",
    "   - ![Alt text](matrix_pic/trace_matrix.png)\n",
    "#### Determinant\n",
    "   - ![Alt text](matrix_pic/determinent_matrix.png)\n",
    "- Rank\n",
    "\n"
   ],
   "metadata": {
    "collapsed": false
   }
  },
  {
   "cell_type": "code",
   "execution_count": 2,
   "outputs": [],
   "source": [
    "import numpy as np"
   ],
   "metadata": {
    "collapsed": false
   }
  },
  {
   "cell_type": "code",
   "execution_count": 3,
   "outputs": [],
   "source": [
    "# square matrix\n",
    "square_matrix = np.array([\n",
    "    [1,2,3],\n",
    "    [4,5,6],\n",
    "    [7,8,9]\n",
    "])"
   ],
   "metadata": {
    "collapsed": false
   }
  },
  {
   "cell_type": "code",
   "execution_count": 4,
   "outputs": [],
   "source": [
    "#Symmetric Matrix\n",
    "symmetric_matrix = np.array([\n",
    "    [1,2,3],\n",
    "    [2,1,4],\n",
    "    [4,5,1]\n",
    "])"
   ],
   "metadata": {
    "collapsed": false
   }
  },
  {
   "cell_type": "code",
   "execution_count": 5,
   "outputs": [],
   "source": [
    "#triangular matrix\n",
    "#upper triangular matrix\n",
    "upper_triangular_matrix = np.array([\n",
    "    [1,2,3],\n",
    "    [0,2,3],\n",
    "    [0,0,3]\n",
    "])\n",
    "# lower triangular matrix\n",
    "lower_triangular_matrix = np.array([\n",
    "    [1,0,0],\n",
    "    [1,2,0],\n",
    "    [3,4,5]\n",
    "])"
   ],
   "metadata": {
    "collapsed": false
   }
  },
  {
   "cell_type": "code",
   "execution_count": 6,
   "outputs": [],
   "source": [
    "# Diagonal Matrix\n",
    "diagonal_matrix = np.array([\n",
    "    [1,0,0],\n",
    "    [0,2,0],\n",
    "    [0,0,3]\n",
    "])"
   ],
   "metadata": {
    "collapsed": false
   }
  },
  {
   "cell_type": "code",
   "execution_count": 7,
   "outputs": [],
   "source": [
    "# Identity Matrix\n",
    "I = np.array([\n",
    "    [1,0,0],\n",
    "    [0,1,0],\n",
    "    [0,0,1]\n",
    "])"
   ],
   "metadata": {
    "collapsed": false
   }
  },
  {
   "cell_type": "code",
   "execution_count": 3,
   "outputs": [
    {
     "name": "stdout",
     "output_type": "stream",
     "text": [
      "[[1 3 5]\n",
      " [2 4 6]]\n"
     ]
    }
   ],
   "source": [
    "#transpose matrix\n",
    "A = np.array([\n",
    "    [1,2],\n",
    "    [3,4],\n",
    "    [5,6]\n",
    "])\n",
    "C = A.T\n",
    "print(C)"
   ],
   "metadata": {
    "collapsed": false
   }
  },
  {
   "cell_type": "code",
   "execution_count": 5,
   "outputs": [
    {
     "name": "stdout",
     "output_type": "stream",
     "text": [
      "[[1. 2.]\n",
      " [3. 4.]]\n",
      "[[-2.   1. ]\n",
      " [ 1.5 -0.5]]\n",
      "[[1.0000000e+00 0.0000000e+00]\n",
      " [8.8817842e-16 1.0000000e+00]]\n"
     ]
    }
   ],
   "source": [
    "from numpy.linalg import inv\n",
    "\n",
    "A = np.array([\n",
    "    [1.0, 2.0],\n",
    "    [3.0,4.0]\n",
    "])\n",
    "print(A)\n",
    "# inverse matrix\n",
    "B = inv(A)\n",
    "print(B)\n",
    "I = A.dot(B)\n",
    "print(I)"
   ],
   "metadata": {
    "collapsed": false
   }
  },
  {
   "cell_type": "code",
   "execution_count": 6,
   "outputs": [
    {
     "name": "stdout",
     "output_type": "stream",
     "text": [
      "[[1 2 3]\n",
      " [4 5 6]\n",
      " [7 8 9]]\n",
      "15\n"
     ]
    }
   ],
   "source": [
    "# Trace\n",
    "from numpy import trace\n",
    "A = np.array([\n",
    "    [1,2,3],\n",
    "    [4,5,6],\n",
    "    [7,8,9]\n",
    "])\n",
    "print(A)\n",
    "# top left to bottom right\n",
    "B = trace(A)\n",
    "print(B)"
   ],
   "metadata": {
    "collapsed": false
   }
  },
  {
   "cell_type": "code",
   "execution_count": 4,
   "outputs": [
    {
     "name": "stdout",
     "output_type": "stream",
     "text": [
      "[[1 2 3]\n",
      " [4 5 6]\n",
      " [7 8 9]]\n",
      "0.0\n"
     ]
    }
   ],
   "source": [
    "# Find determined\n",
    "from numpy.linalg import det\n",
    "A = np.array([\n",
    "    [1,2,3],\n",
    "    [4,5,6],\n",
    "    [7,8,9]\n",
    "])\n",
    "print(A)\n",
    "# calculate determinant\n",
    "B = det(A)\n",
    "print(B)"
   ],
   "metadata": {
    "collapsed": false
   }
  },
  {
   "cell_type": "code",
   "execution_count": 14,
   "outputs": [
    {
     "name": "stdout",
     "output_type": "stream",
     "text": [
      "1\n",
      "3\n",
      "2\n"
     ]
    }
   ],
   "source": [
    "# rank\n",
    "from numpy.linalg import matrix_rank\n",
    "\n",
    "v1 = np.array([1,2,3,4])\n",
    "print(matrix_rank(v1))\n",
    "v2 = np.array([\n",
    "    [1,2,3],\n",
    "    [3,4,5],\n",
    "    [33,4,50],\n",
    "])\n",
    "print(matrix_rank(v2))\n",
    "\n",
    "v3 = np.array([\n",
    "    [1,2],\n",
    "    [3,4]\n",
    "])\n",
    "print(matrix_rank(v3))"
   ],
   "metadata": {
    "collapsed": false
   }
  }
 ],
 "metadata": {
  "kernelspec": {
   "name": "venv",
   "language": "python",
   "display_name": "venv"
  },
  "language_info": {
   "codemirror_mode": {
    "name": "ipython",
    "version": 2
   },
   "file_extension": ".py",
   "mimetype": "text/x-python",
   "name": "python",
   "nbconvert_exporter": "python",
   "pygments_lexer": "ipython2",
   "version": "2.7.6"
  }
 },
 "nbformat": 4,
 "nbformat_minor": 0
}
