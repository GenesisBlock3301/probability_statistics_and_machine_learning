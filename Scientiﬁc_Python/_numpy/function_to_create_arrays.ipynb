{
 "cells": [
  {
   "cell_type": "code",
   "execution_count": 2,
   "outputs": [
    {
     "name": "stdout",
     "output_type": "stream",
     "text": [
      "[[1.71189399e-316 0.00000000e+000 2.10077583e-312 6.79038654e-313]\n",
      " [2.22809558e-312 2.14321575e-312 2.35541533e-312 6.79038654e-313]\n",
      " [2.22809558e-312 2.14321575e-312 2.46151512e-312 2.41907520e-312]]\n"
     ]
    }
   ],
   "source": [
    "import numpy as np\n",
    "# create new array, which contain random value\n",
    "a = np.empty([3,4])\n",
    "print(a)"
   ],
   "metadata": {
    "collapsed": false
   }
  },
  {
   "cell_type": "code",
   "execution_count": 4,
   "outputs": [
    {
     "name": "stdout",
     "output_type": "stream",
     "text": [
      "[[0 0 0 0]\n",
      " [0 0 0 0]\n",
      " [0 0 0 0]]\n"
     ]
    }
   ],
   "source": [
    "import numpy as np\n",
    "# create a new array which contains zeroes\n",
    "a = np.zeros([3,4],dtype=int)\n",
    "print(a)"
   ],
   "metadata": {
    "collapsed": false
   }
  }
 ],
 "metadata": {
  "kernelspec": {
   "name": "venv",
   "language": "python",
   "display_name": "venv"
  },
  "language_info": {
   "codemirror_mode": {
    "name": "ipython",
    "version": 2
   },
   "file_extension": ".py",
   "mimetype": "text/x-python",
   "name": "python",
   "nbconvert_exporter": "python",
   "pygments_lexer": "ipython2",
   "version": "2.7.6"
  }
 },
 "nbformat": 4,
 "nbformat_minor": 0
}
