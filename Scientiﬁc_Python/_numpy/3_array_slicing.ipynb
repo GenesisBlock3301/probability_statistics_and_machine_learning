{
 "cells": [
  {
   "metadata": {},
   "cell_type": "markdown",
   "source": [
    "### Slicing arrays\n",
    "\n",
    "Slicing in python means taking elements from one given index to another given index.\n",
    "\n",
    "We pass slice instead of index like this: `[start:end]`.\n",
    "\n",
    "We can also define the step, like this: `[start:end:step]`.\n",
    "\n",
    "If we don't pass start its considered 0\n",
    "\n",
    "If we don't pass end its considered length of array in that dimension\n",
    "\n",
    "If we don't pass step its considered 1"
   ],
   "id": "8985a5d05b8a3ffe"
  },
  {
   "metadata": {
    "ExecuteTime": {
     "end_time": "2024-05-06T09:23:14.992612Z",
     "start_time": "2024-05-06T09:23:14.987601Z"
    }
   },
   "cell_type": "code",
   "source": "import numpy as np",
   "id": "54bc90618e351dfc",
   "outputs": [],
   "execution_count": 2
  },
  {
   "metadata": {
    "ExecuteTime": {
     "end_time": "2024-05-06T09:23:57.987387Z",
     "start_time": "2024-05-06T09:23:57.984212Z"
    }
   },
   "cell_type": "code",
   "source": [
    "arr = np.array([1, 2, 3, 4, 5, 6, 7])\n",
    "print(\"show 1-5 values: \", arr[1:5])"
   ],
   "id": "2c8e9733ec1217a1",
   "outputs": [
    {
     "name": "stdout",
     "output_type": "stream",
     "text": [
      "show 1-5 values:  [2 3 4 5]\n"
     ]
    }
   ],
   "execution_count": 4
  },
  {
   "metadata": {
    "ExecuteTime": {
     "end_time": "2024-05-06T09:24:33.451210Z",
     "start_time": "2024-05-06T09:24:33.446112Z"
    }
   },
   "cell_type": "code",
   "source": [
    "arr = np.array([1, 2, 3, 4, 5, 6, 7])\n",
    "print(\"show values before 4: \", arr[:4])"
   ],
   "id": "5fd10310a322dd29",
   "outputs": [
    {
     "name": "stdout",
     "output_type": "stream",
     "text": [
      "show values before 4:  [1 2 3 4]\n"
     ]
    }
   ],
   "execution_count": 6
  },
  {
   "metadata": {
    "ExecuteTime": {
     "end_time": "2024-05-06T09:25:38.848130Z",
     "start_time": "2024-05-06T09:25:38.844906Z"
    }
   },
   "cell_type": "code",
   "source": [
    "arr = np.array([1, 2, 3, 4, 5, 6, 7])\n",
    "print(\"reverse slicing: \",arr[-3:-1])"
   ],
   "id": "8d8e8b8d42db3e5d",
   "outputs": [
    {
     "name": "stdout",
     "output_type": "stream",
     "text": [
      "reverse slicing:  [5 6]\n"
     ]
    }
   ],
   "execution_count": 9
  },
  {
   "metadata": {
    "ExecuteTime": {
     "end_time": "2024-05-06T09:26:12.862775Z",
     "start_time": "2024-05-06T09:26:12.857547Z"
    }
   },
   "cell_type": "code",
   "source": "print(\"slicing with step: \", arr[1:5:2])",
   "id": "98c5ed09576703cf",
   "outputs": [
    {
     "name": "stdout",
     "output_type": "stream",
     "text": [
      "slicing with step:  [2 4]\n"
     ]
    }
   ],
   "execution_count": 10
  },
  {
   "metadata": {},
   "cell_type": "markdown",
   "source": "### Slicing 2-D Arrays",
   "id": "39dcfa7639a7fd5a"
  },
  {
   "metadata": {
    "ExecuteTime": {
     "end_time": "2024-05-06T09:31:02.905332Z",
     "start_time": "2024-05-06T09:31:02.901815Z"
    }
   },
   "cell_type": "code",
   "source": [
    "arr = np.array([[1, 2, 3, 4, 5], [6, 7, 8, 9, 10]])\n",
    "# print(arr[1,::-1])\n",
    "print(arr[0:2,1]) # [1dim, 2nd-dim, 3rd-dim, ...., so on]"
   ],
   "id": "d9efc09948e62dda",
   "outputs": [
    {
     "name": "stdout",
     "output_type": "stream",
     "text": [
      "[2 7]\n"
     ]
    }
   ],
   "execution_count": 19
  },
  {
   "metadata": {},
   "cell_type": "code",
   "outputs": [],
   "execution_count": null,
   "source": "",
   "id": "8dac4703e0e9feb0"
  }
 ],
 "metadata": {
  "kernelspec": {
   "display_name": "Python 3",
   "language": "python",
   "name": "python3"
  },
  "language_info": {
   "codemirror_mode": {
    "name": "ipython",
    "version": 2
   },
   "file_extension": ".py",
   "mimetype": "text/x-python",
   "name": "python",
   "nbconvert_exporter": "python",
   "pygments_lexer": "ipython2",
   "version": "2.7.6"
  }
 },
 "nbformat": 4,
 "nbformat_minor": 5
}
