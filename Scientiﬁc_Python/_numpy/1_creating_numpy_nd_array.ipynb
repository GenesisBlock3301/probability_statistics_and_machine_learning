{
 "cells": [
  {
   "metadata": {},
   "cell_type": "code",
   "outputs": [],
   "execution_count": null,
   "source": "import numpy as np",
   "id": "a485cab1725c1b83"
  },
  {
   "metadata": {
    "ExecuteTime": {
     "end_time": "2024-05-06T08:33:53.433559Z",
     "start_time": "2024-05-06T08:33:53.429653Z"
    }
   },
   "cell_type": "code",
   "source": [
    "# creating array using np.array()\n",
    "arr = np.array([1,2,3,4,5,])\n",
    "arr"
   ],
   "id": "232a4fad45aa775d",
   "outputs": [
    {
     "data": {
      "text/plain": [
       "array([1, 2, 3, 4, 5])"
      ]
     },
     "execution_count": 3,
     "metadata": {},
     "output_type": "execute_result"
    }
   ],
   "execution_count": 3
  },
  {
   "metadata": {},
   "cell_type": "markdown",
   "source": [
    "## Dimension in array\n",
    "#### 0-D\n",
    "0-D other name is Scalars, ara the element in array. Each value in array is 0-D array"
   ],
   "id": "3040a78d147225c1"
  },
  {
   "metadata": {
    "ExecuteTime": {
     "end_time": "2024-05-06T08:47:09.641565Z",
     "start_time": "2024-05-06T08:47:09.636562Z"
    }
   },
   "cell_type": "code",
   "source": [
    "arr = np.array(42)\n",
    "print(\"row x col: \",arr.shape)\n",
    "print(arr.ndim)"
   ],
   "id": "dda665110531ff65",
   "outputs": [
    {
     "name": "stdout",
     "output_type": "stream",
     "text": [
      "row x col:  ()\n",
      "0\n"
     ]
    }
   ],
   "execution_count": 10
  },
  {
   "metadata": {},
   "cell_type": "markdown",
   "source": [
    "1-D: \n",
    "An array that has 0-D arrays as its elements is called uni-dimensional or 1-D array."
   ],
   "id": "ff4091ca9503b861"
  },
  {
   "metadata": {
    "ExecuteTime": {
     "end_time": "2024-05-06T08:47:22.854483Z",
     "start_time": "2024-05-06T08:47:22.849436Z"
    }
   },
   "cell_type": "code",
   "source": [
    "arr = np.array([1,2,3,4,5])\n",
    "print(\"shape(row x col): \", arr.shape)\n",
    "print(\"dimension: \", arr.ndim)"
   ],
   "id": "d5d70b7979b27f5c",
   "outputs": [
    {
     "name": "stdout",
     "output_type": "stream",
     "text": [
      "shape(row x col):  (5,)\n",
      "dimension:  1\n"
     ]
    }
   ],
   "execution_count": 11
  },
  {
   "metadata": {},
   "cell_type": "markdown",
   "source": [
    "2-D:\n",
    "An array that has 1-D arrays as its elements is called a 2-D array."
   ],
   "id": "6c447f06d63e12a6"
  },
  {
   "metadata": {
    "ExecuteTime": {
     "end_time": "2024-05-06T08:49:20.745365Z",
     "start_time": "2024-05-06T08:49:20.740297Z"
    }
   },
   "cell_type": "code",
   "source": [
    "arr = np.array([[1,2,3], [4,5,6]])\n",
    "print(\"shape(row x col): \", arr.shape)\n",
    "print(\"dimension: \", arr.ndim)"
   ],
   "id": "2e2eacd3ee9f4658",
   "outputs": [
    {
     "name": "stdout",
     "output_type": "stream",
     "text": [
      "shape(row x col):  (2, 3)\n",
      "dimension:  2\n"
     ]
    }
   ],
   "execution_count": 15
  },
  {
   "metadata": {},
   "cell_type": "markdown",
   "source": [
    "## 3-D arrays:\n",
    "An array that has 2-D arrays (matrices) as its elements is called 3-D array."
   ],
   "id": "8c7617801ea3369e"
  },
  {
   "metadata": {
    "ExecuteTime": {
     "end_time": "2024-05-06T08:54:38.946885Z",
     "start_time": "2024-05-06T08:54:38.940994Z"
    }
   },
   "cell_type": "code",
   "source": [
    "arr = np.array([[[1,2,3],[7,8,9],[6,5,3]]])\n",
    "print(\"shape(row x col): \", arr.shape)\n",
    "print(\"dimension: \", arr.ndim)"
   ],
   "id": "93b09c31bf0ab1",
   "outputs": [
    {
     "name": "stdout",
     "output_type": "stream",
     "text": [
      "shape(row x col):  (1, 3, 3)\n",
      "dimension:  3\n"
     ]
    }
   ],
   "execution_count": 17
  },
  {
   "metadata": {},
   "cell_type": "markdown",
   "source": ":Explain above shape: Here, first dimension has 1 element `[[1,2,3],[7,8,9],[6,5,3]]`, 2nd dimension has `[1,2,3],[7,8,9],[6,5,3]` these three element. and finally 3rd dimension has only 3 element like `1,2,3`.",
   "id": "5865ee8f01dc17b4"
  },
  {
   "metadata": {
    "ExecuteTime": {
     "end_time": "2024-05-06T08:58:13.241535Z",
     "start_time": "2024-05-06T08:58:13.236738Z"
    }
   },
   "cell_type": "code",
   "source": [
    "arr = np.array([1,2,3,4,5], ndmin=5)\n",
    "print(arr)\n",
    "print(\"shape(row x col): \", arr.shape)\n",
    "print(\"dimension: \", arr.ndim)"
   ],
   "id": "a6bfe13418087bb1",
   "outputs": [
    {
     "name": "stdout",
     "output_type": "stream",
     "text": [
      "[[[[[1 2 3 4 5]]]]]\n",
      "shape(row x col):  (1, 1, 1, 1, 5)\n",
      "dimension:  5\n"
     ]
    }
   ],
   "execution_count": 19
  }
 ],
 "metadata": {
  "kernelspec": {
   "display_name": "Python 3",
   "language": "python",
   "name": "python3"
  },
  "language_info": {
   "codemirror_mode": {
    "name": "ipython",
    "version": 2
   },
   "file_extension": ".py",
   "mimetype": "text/x-python",
   "name": "python",
   "nbconvert_exporter": "python",
   "pygments_lexer": "ipython2",
   "version": "2.7.6"
  }
 },
 "nbformat": 4,
 "nbformat_minor": 5
}
