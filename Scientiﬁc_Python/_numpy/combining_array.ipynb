{
 "cells": [
  {
   "cell_type": "code",
   "execution_count": 4,
   "metadata": {
    "collapsed": true
   },
   "outputs": [
    {
     "name": "stdout",
     "output_type": "stream",
     "text": [
      "[[1 2 3]\n",
      " [4 5 6]\n",
      " [1 2 3]]\n"
     ]
    }
   ],
   "source": [
    "import numpy as np\n",
    "# vertical stack\n",
    "\"\"\"\n",
    "this means increase row\n",
    "\"\"\"\n",
    "# create first array\n",
    "a = np.array([1,2,3])\n",
    "\n",
    "# create second array\n",
    "b = np.array([4,5,6])\n",
    "\n",
    "a3 = np.vstack((a,b,a))\n",
    "print(a3)"
   ]
  },
  {
   "cell_type": "code",
   "execution_count": 3,
   "outputs": [
    {
     "name": "stdout",
     "output_type": "stream",
     "text": [
      "[1 2 3 4 5 6]\n"
     ]
    }
   ],
   "source": [
    "import numpy as np\n",
    "# horizontal stack\n",
    "\"\"\"\n",
    "increase column\n",
    "\"\"\"\n",
    "# create first array\n",
    "a = np.array([1,2,3])\n",
    "\n",
    "# create second array\n",
    "b = np.array([4,5,6])\n",
    "\n",
    "a3 = np.hstack((a,b))\n",
    "print(a3)"
   ],
   "metadata": {
    "collapsed": false
   }
  }
 ],
 "metadata": {
  "kernelspec": {
   "name": "venv",
   "language": "python",
   "display_name": "venv"
  },
  "language_info": {
   "codemirror_mode": {
    "name": "ipython",
    "version": 2
   },
   "file_extension": ".py",
   "mimetype": "text/x-python",
   "name": "python",
   "nbconvert_exporter": "python",
   "pygments_lexer": "ipython2",
   "version": "2.7.6"
  }
 },
 "nbformat": 4,
 "nbformat_minor": 0
}
