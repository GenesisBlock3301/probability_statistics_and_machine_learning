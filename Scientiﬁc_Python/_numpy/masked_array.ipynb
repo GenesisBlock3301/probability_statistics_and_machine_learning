{
 "cells": [
  {
   "cell_type": "raw",
   "source": [
    "m#%% md\n",
    "## Why need masked array\n",
    "NumPy's masked array is a class that allows you to hide or ignore specific\n",
    "values in an array, effectively masking them. This can be useful in many cases,\n",
    "such as when you have missing or invalid data that you don't want to consider\n",
    "in your computations."
   ],
   "metadata": {
    "collapsed": false,
    "pycharm": {
     "name": ""
    }
   }
  },
  {
   "cell_type": "code",
   "execution_count": 16,
   "outputs": [
    {
     "name": "stdout",
     "output_type": "stream",
     "text": [
      "[-- -- -- -- -- 5 6 7 8 9]\n"
     ]
    }
   ],
   "source": [
    "import numpy as np\n",
    "from numpy import ma\n",
    "\n",
    "x = np.arange(10)\n",
    "x[0] = 4444\n",
    "y = ma.masked_array(x, x<5)\n",
    "print(y)\n",
    "print()\n",
    "\n",
    "print(y)"
   ],
   "metadata": {
    "collapsed": false
   }
  },
  {
   "cell_type": "code",
   "execution_count": null,
   "outputs": [],
   "source": [
    "import numpy as np\n",
    "from numpy import ma\n",
    "\n",
    "x = np.arange(10)\n",
    "masked_array = ma.masked_array(x, x<5)\n",
    "print(masked_array)"
   ],
   "metadata": {
    "collapsed": false
   }
  }
 ],
 "metadata": {
  "kernelspec": {
   "display_name": "Python 3",
   "language": "python",
   "name": "python3"
  },
  "language_info": {
   "codemirror_mode": {
    "name": "ipython",
    "version": 2
   },
   "file_extension": ".py",
   "mimetype": "text/x-python",
   "name": "python",
   "nbconvert_exporter": "python",
   "pygments_lexer": "ipython2",
   "version": "2.7.6"
  }
 },
 "nbformat": 4,
 "nbformat_minor": 0
}
