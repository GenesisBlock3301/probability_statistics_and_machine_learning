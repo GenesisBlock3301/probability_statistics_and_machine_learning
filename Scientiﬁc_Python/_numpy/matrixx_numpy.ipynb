{
 "cells": [
  {
   "cell_type": "markdown",
   "source": [
    "### What is vector?\n",
    "A vector is tuple of one or more values called scalars.\n",
    "Generally vector represented like: v = (v1, v2, v3)\n",
    "where v1, v2 and v3 are scalar value often real values. Vector also\n",
    "represent vertically below like that:\n",
    "v = (\n",
    "v1\n",
    "v2\n",
    "v3\n",
    ")\n",
    "Note: length or magnitude are same in Vector\n",
    "\n",
    "### What is a Matrix\n",
    "Matrix is a two-dimensional array of scalars with one or more column and one or more rows.\n",
    "below the example of matrix:\n",
    "A = ((1,2,3),(3,4,5))"
   ],
   "metadata": {
    "collapsed": false
   }
  },
  {
   "cell_type": "code",
   "execution_count": 1,
   "outputs": [],
   "source": [
    "import numpy as np"
   ],
   "metadata": {
    "collapsed": false
   }
  },
  {
   "cell_type": "code",
   "execution_count": 10,
   "outputs": [
    {
     "name": "stdout",
     "output_type": "stream",
     "text": [
      "[[0 2 4]\n",
      " [3 5 7]]\n"
     ]
    }
   ],
   "source": [
    "a = np.arange(6).reshape((2,3))\n",
    "b = np.arange(3)\n",
    "print(a+b)"
   ],
   "metadata": {
    "collapsed": false
   }
  },
  {
   "cell_type": "code",
   "execution_count": 16,
   "outputs": [
    {
     "name": "stdout",
     "output_type": "stream",
     "text": [
      "16.0\n",
      "10.677078252031311\n"
     ]
    }
   ],
   "source": [
    "# vector norm\n",
    "from numpy.linalg import norm\n",
    "\n",
    "a = np.array([1,2,3,10])\n",
    "# l1 = v1+v2+v3\n",
    "l1 = norm(a,1)\n",
    "print(l1)\n",
    "# l2 = sqrt(v1+v2+v3)\n",
    "l2 = norm(a,2)\n",
    "print(l2)"
   ],
   "metadata": {
    "collapsed": false
   }
  },
  {
   "cell_type": "code",
   "execution_count": 18,
   "outputs": [
    {
     "name": "stdout",
     "output_type": "stream",
     "text": [
      "10.0\n"
     ]
    }
   ],
   "source": [
    "# maximum norm\n",
    "from math import inf\n",
    "mx_norm = norm(a, inf)\n",
    "print(mx_norm)"
   ],
   "metadata": {
    "collapsed": false
   }
  },
  {
   "cell_type": "code",
   "execution_count": 23,
   "outputs": [
    {
     "name": "stdout",
     "output_type": "stream",
     "text": [
      "[[0 1]\n",
      " [2 3]\n",
      " [4 5]]\n",
      "[[0 1 2]\n",
      " [3 4 5]]\n",
      "\n",
      "[[ 3  4  5]\n",
      " [ 9 14 19]\n",
      " [15 24 33]]\n"
     ]
    }
   ],
   "source": [
    "a = np.arange(6).reshape((3,2))\n",
    "b = np.arange(6).reshape((2,3))\n",
    "print(a)\n",
    "print(b)\n",
    "print()\n",
    "\n",
    "print(a.dot(b))"
   ],
   "metadata": {
    "collapsed": false
   }
  }
 ],
 "metadata": {
  "kernelspec": {
   "name": "venv",
   "language": "python",
   "display_name": "venv"
  },
  "language_info": {
   "codemirror_mode": {
    "name": "ipython",
    "version": 2
   },
   "file_extension": ".py",
   "mimetype": "text/x-python",
   "name": "python",
   "nbconvert_exporter": "python",
   "pygments_lexer": "ipython2",
   "version": "2.7.6"
  }
 },
 "nbformat": 4,
 "nbformat_minor": 0
}
