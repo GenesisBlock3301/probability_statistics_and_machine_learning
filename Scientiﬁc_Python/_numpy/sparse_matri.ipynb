{
 "cells": [
  {
   "cell_type": "markdown",
   "source": [
    "### Sparse Matrix\n",
    "\n",
    "- Matrix that contain mostly zero values are called sparse.\n",
    "- Where most of values are non-zero is called dense.\n",
    "-"
   ],
   "metadata": {
    "collapsed": false
   }
  }
 ],
 "metadata": {
  "kernelspec": {
   "display_name": "Python 3",
   "language": "python",
   "name": "python3"
  },
  "language_info": {
   "codemirror_mode": {
    "name": "ipython",
    "version": 2
   },
   "file_extension": ".py",
   "mimetype": "text/x-python",
   "name": "python",
   "nbconvert_exporter": "python",
   "pygments_lexer": "ipython2",
   "version": "2.7.6"
  }
 },
 "nbformat": 4,
 "nbformat_minor": 0
}
