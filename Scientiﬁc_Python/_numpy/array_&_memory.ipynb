{
 "cells": [
  {
   "cell_type": "code",
   "execution_count": 16,
   "metadata": {
    "collapsed": true
   },
   "outputs": [
    {
     "name": "stdout",
     "output_type": "stream",
     "text": [
      "[[22  1  1]\n",
      " [ 1  1  1]\n",
      " [ 1  1  1]]\n",
      "[[1 1 1 1]\n",
      " [1 1 1 1]\n",
      " [1 1 1 1]]\n"
     ]
    }
   ],
   "source": [
    "import numpy as np\n",
    "\n",
    "x = np.ones((3,3), dtype=np.int)\n",
    "# print(x)\n",
    "# notice duplicated last dimension [0,1,2.... column index]\n",
    "y = x[:,[0,1,2,2]]\n",
    "x[0,0] = 22\n",
    "print(x)\n",
    "print(y)"
   ]
  },
  {
   "cell_type": "code",
   "execution_count": 31,
   "outputs": [
    {
     "name": "stdout",
     "output_type": "stream",
     "text": [
      "[[ 1  2  3]\n",
      " [ 4  5  6]\n",
      " [33 44 55]]\n"
     ]
    }
   ],
   "source": [
    "import numpy as np\n",
    "\n",
    "x = np.array([\n",
    "    [1, 2, 3],\n",
    "    [4,5,6],\n",
    "    [7,8,9]\n",
    "])\n",
    "# [\"row\", column]\n",
    "x[-1,] = [33, 44, 55]\n",
    "print(x)"
   ],
   "metadata": {
    "collapsed": false
   }
  },
  {
   "cell_type": "code",
   "execution_count": 33,
   "outputs": [
    {
     "name": "stdout",
     "output_type": "stream",
     "text": [
      "[0 1 2 3 4]\n"
     ]
    }
   ],
   "source": [
    "import numpy as np\n",
    "\n",
    "# create an array using arange\n",
    "x = np.arange(5)\n",
    "# it creates array value from 0 to 4\n",
    "print(x)"
   ],
   "metadata": {
    "collapsed": false
   }
  },
  {
   "cell_type": "code",
   "execution_count": 1,
   "outputs": [
    {
     "name": "stdout",
     "output_type": "stream",
     "text": [
      "[[          0  4294967296           1  8589934592]\n",
      " [          1  8589934592           2 12884901888]\n",
      " [          2 12884901888           3 17179869184]\n",
      " [          3 17179869184           4 21474836480]\n",
      " [          4 21474836480           5 25769803776]\n",
      " [          5 25769803776           6 30064771072]\n",
      " [          6 30064771072           7 34359738368]]\n"
     ]
    }
   ],
   "source": [
    "import numpy as np\n",
    "from numpy.lib.stride_tricks import as_strided\n",
    "# overlapped entries\n",
    "x = np.arange(16)\n",
    "y = as_strided(x,(7,4),(8,4) )\n",
    "print(y)"
   ],
   "metadata": {
    "collapsed": false
   }
  },
  {
   "cell_type": "code",
   "execution_count": 1,
   "outputs": [
    {
     "name": "stdout",
     "output_type": "stream",
     "text": [
      "1 Leaf\n",
      "2 Inner\n",
      "6 Leaf\n",
      "9 Leaf\n",
      "2 Inner\n",
      "8 Inner\n",
      "5 Inner\n"
     ]
    }
   ],
   "source": [
    "import numpy as np\n",
    "\n",
    "arr = [\n",
    "    [1,2],\n",
    "    [2,2],\n",
    "    [6,8],\n",
    "    [9,8],\n",
    "    [2,5],\n",
    "    [8,5],\n",
    "    [5, None]\n",
    "]\n",
    "\n",
    "parent = [x[1] for x in arr]\n",
    "node = [x[0] for x in arr]\n",
    "for i in node:\n",
    "    if i in parent and parent.count(i) > 1:\n",
    "        print(i, \"Inner\")\n",
    "    else:\n",
    "        print(i, \"Leaf\")"
   ],
   "metadata": {
    "collapsed": false
   }
  },
  {
   "cell_type": "code",
   "execution_count": 1,
   "outputs": [
    {
     "name": "stdout",
     "output_type": "stream",
     "text": [
      "[3 6 9]\n"
     ]
    }
   ],
   "source": [
    "# Indexing\n",
    "import numpy as np\n",
    "\n",
    "x = np.array([\n",
    "    [1, 2, 3],\n",
    "    [4,5,6],\n",
    "    [7,8,9]\n",
    "])\n",
    "print(x[0:, -1])"
   ],
   "metadata": {
    "collapsed": false
   }
  },
  {
   "cell_type": "code",
   "execution_count": 8,
   "outputs": [
    {
     "name": "stdout",
     "output_type": "stream",
     "text": [
      "6\n",
      "(6, 1)\n"
     ]
    }
   ],
   "source": [
    "# reshape to 1D to 2D\n",
    "import numpy as np\n",
    "\n",
    "data = np.array([11,2,3,4,5,6])\n",
    "print(data.shape[0])\n",
    "data = data.reshape(data.shape[0], 1)\n",
    "print(data.shape)"
   ],
   "metadata": {
    "collapsed": false
   }
  },
  {
   "cell_type": "code",
   "execution_count": 11,
   "outputs": [
    {
     "name": "stdout",
     "output_type": "stream",
     "text": [
      "[[1 2 3]\n",
      " [4 7 8]]\n"
     ]
    }
   ],
   "source": [
    "import numpy as np\n",
    "\n",
    "data = np.array([\n",
    "    [1, 2],\n",
    "    [3,4],\n",
    "    [7,8]\n",
    "])\n",
    "data = data.reshape(2, 3)\n",
    "print(data)"
   ],
   "metadata": {
    "collapsed": false
   }
  }
 ],
 "metadata": {
  "kernelspec": {
   "name": "venv",
   "language": "python",
   "display_name": "venv"
  },
  "language_info": {
   "codemirror_mode": {
    "name": "ipython",
    "version": 2
   },
   "file_extension": ".py",
   "mimetype": "text/x-python",
   "name": "python",
   "nbconvert_exporter": "python",
   "pygments_lexer": "ipython2",
   "version": "2.7.6"
  }
 },
 "nbformat": 4,
 "nbformat_minor": 0
}
