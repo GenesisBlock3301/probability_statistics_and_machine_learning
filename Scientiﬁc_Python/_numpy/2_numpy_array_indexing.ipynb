{
 "cells": [
  {
   "metadata": {},
   "cell_type": "markdown",
   "source": "## Access Array Elements",
   "id": "714a6b20000388c7"
  },
  {
   "metadata": {
    "ExecuteTime": {
     "end_time": "2025-02-26T03:26:20.360499Z",
     "start_time": "2025-02-26T03:26:20.213698Z"
    }
   },
   "cell_type": "code",
   "source": "import numpy as np",
   "id": "8e3026e1c6d090c",
   "outputs": [],
   "execution_count": 2
  },
  {
   "metadata": {
    "ExecuteTime": {
     "end_time": "2024-05-06T09:02:49.410324Z",
     "start_time": "2024-05-06T09:02:49.405431Z"
    }
   },
   "cell_type": "code",
   "source": [
    "_arr = np.array(90) # indexing not possible for zero dimension.\n",
    "arr = np.array([1,2,3,4,5])\n",
    "print(arr[::-1])"
   ],
   "id": "d59d71cb51487cd9",
   "outputs": [
    {
     "name": "stdout",
     "output_type": "stream",
     "text": [
      "[5 4 3 2 1]\n"
     ]
    }
   ],
   "execution_count": 5
  },
  {
   "metadata": {},
   "cell_type": "markdown",
   "source": [
    "## Access 2-D Arrays\n",
    "\n",
    "To access elements from 2-D arrays we can use comma separated integers representing the dimension and the index of the element.\n",
    "\n",
    "Think of 2-D arrays like a table with rows and columns, where the dimension represents the row and the index represents the column."
   ],
   "id": "b9c4d8ba5cd09a52"
  },
  {
   "metadata": {
    "ExecuteTime": {
     "end_time": "2025-02-26T03:26:23.182990Z",
     "start_time": "2025-02-26T03:26:23.177403Z"
    }
   },
   "cell_type": "code",
   "source": [
    "arr = np.array([[1,2,3,4,5], [6,7,8,9,10]])\n",
    "print(arr.ndim)\n",
    "print(arr.shape)\n",
    "print(\"1st row, 1st index value: \",arr[0,1])\n",
    "print(\"Reverse 2nd row: \", arr[1,::-1])"
   ],
   "id": "b260cd52497f84e",
   "outputs": [
    {
     "name": "stdout",
     "output_type": "stream",
     "text": [
      "2\n",
      "(2, 5)\n",
      "1st row, 1st index value:  2\n",
      "Reverse 2nd row:  [10  9  8  7  6]\n"
     ]
    }
   ],
   "execution_count": 3
  },
  {
   "metadata": {},
   "cell_type": "markdown",
   "source": [
    "### Access 3-D Arrays\n",
    "To access elements from 3-D arrays we can use comma separated integers representing the dimensions and the index of the element."
   ],
   "id": "7444c17115c8290a"
  },
  {
   "metadata": {
    "ExecuteTime": {
     "end_time": "2024-05-06T09:18:26.327127Z",
     "start_time": "2024-05-06T09:18:26.323483Z"
    }
   },
   "cell_type": "code",
   "source": [
    "arr = np.array([ [[1, 2, 3], [4, 5, 6]], [[7, 8, 9], [10, 11, 12]] ])\n",
    "print(\"0th row: \",arr[0])\n",
    "print(\"0th row's 1st row: \",arr[0,1])\n",
    "print(\"0th row's 1st row's 2nd index: \",arr[0,1,2])"
   ],
   "id": "3ea3a3a86847f800",
   "outputs": [
    {
     "name": "stdout",
     "output_type": "stream",
     "text": [
      "0th row:  [[1 2 3]\n",
      " [4 5 6]]\n",
      "0th row's 1st row:  [4 5 6]\n",
      "6\n"
     ]
    }
   ],
   "execution_count": 21
  },
  {
   "metadata": {
    "ExecuteTime": {
     "end_time": "2024-05-06T09:21:14.681618Z",
     "start_time": "2024-05-06T09:21:14.678112Z"
    }
   },
   "cell_type": "code",
   "source": [
    "arr = np.array([[1,2,3,4,5], [6,7,8,9,10]])\n",
    "print(\"Last element from 2nd dimension: \", arr[1,-1])"
   ],
   "id": "4633f79f4e44cb7f",
   "outputs": [
    {
     "name": "stdout",
     "output_type": "stream",
     "text": [
      "Last element from 2nd dimension:  10\n"
     ]
    }
   ],
   "execution_count": 28
  },
  {
   "metadata": {
    "ExecuteTime": {
     "end_time": "2024-05-06T09:20:05.401024Z",
     "start_time": "2024-05-06T09:20:05.399203Z"
    }
   },
   "cell_type": "code",
   "source": "",
   "id": "5ecbc6e9f6f49b3f",
   "outputs": [],
   "execution_count": 24
  }
 ],
 "metadata": {
  "kernelspec": {
   "display_name": "Python 3",
   "language": "python",
   "name": "python3"
  },
  "language_info": {
   "codemirror_mode": {
    "name": "ipython",
    "version": 2
   },
   "file_extension": ".py",
   "mimetype": "text/x-python",
   "name": "python",
   "nbconvert_exporter": "python",
   "pygments_lexer": "ipython2",
   "version": "2.7.6"
  }
 },
 "nbformat": 4,
 "nbformat_minor": 5
}
