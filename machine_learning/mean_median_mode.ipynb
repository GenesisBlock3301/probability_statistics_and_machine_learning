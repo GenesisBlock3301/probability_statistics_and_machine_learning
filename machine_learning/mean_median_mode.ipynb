{
 "cells": [
  {
   "metadata": {},
   "cell_type": "markdown",
   "source": [
    "# Mean Median & Mode\n",
    "\n",
    "- Mean: The average value.\n",
    "- Median: The mid point value.\n",
    "- Mode: The most common value."
   ],
   "id": "8ccae1cd82b4bd9f"
  },
  {
   "metadata": {
    "ExecuteTime": {
     "end_time": "2025-02-19T14:51:05.282028Z",
     "start_time": "2025-02-19T14:51:05.278501Z"
    }
   },
   "cell_type": "code",
   "source": [
    "# Mean\n",
    "import numpy as np\n",
    "speed = [99, 86, 87, 88, 111, 86, 103, 87, 94, 78, 77, 85, 86]\n",
    "length = len(speed)\n",
    "mean = np.sum(speed) / length\n",
    "print(mean)"
   ],
   "id": "9e38411be7981522",
   "outputs": [
    {
     "name": "stdout",
     "output_type": "stream",
     "text": [
      "89.76923076923077\n"
     ]
    }
   ],
   "execution_count": 2
  },
  {
   "metadata": {
    "ExecuteTime": {
     "end_time": "2025-02-19T14:51:28.608884Z",
     "start_time": "2025-02-19T14:51:28.606114Z"
    }
   },
   "cell_type": "code",
   "source": [
    "# Median\n",
    "median = np.median(speed)\n",
    "print(median)"
   ],
   "id": "9198b5e21c2c2437",
   "outputs": [
    {
     "name": "stdout",
     "output_type": "stream",
     "text": [
      "87.0\n"
     ]
    }
   ],
   "execution_count": 3
  }
 ],
 "metadata": {
  "kernelspec": {
   "display_name": "Python 3",
   "language": "python",
   "name": "python3"
  },
  "language_info": {
   "codemirror_mode": {
    "name": "ipython",
    "version": 2
   },
   "file_extension": ".py",
   "mimetype": "text/x-python",
   "name": "python",
   "nbconvert_exporter": "python",
   "pygments_lexer": "ipython2",
   "version": "2.7.6"
  }
 },
 "nbformat": 4,
 "nbformat_minor": 5
}
