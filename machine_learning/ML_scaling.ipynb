{
 "cells": [
  {
   "cell_type": "code",
   "id": "initial_id",
   "metadata": {
    "collapsed": true,
    "ExecuteTime": {
     "end_time": "2025-03-22T08:18:30.904883Z",
     "start_time": "2025-03-22T08:18:29.643873Z"
    }
   },
   "source": [
    "import pandas as pd\n",
    "from sklearn.preprocessing import StandardScaler\n",
    "from sklearn import linear_model"
   ],
   "outputs": [],
   "execution_count": 1
  },
  {
   "metadata": {
    "ExecuteTime": {
     "end_time": "2025-03-22T08:22:58.924237Z",
     "start_time": "2025-03-22T08:22:58.904010Z"
    }
   },
   "cell_type": "code",
   "source": [
    "# Scale data using z = (x - u) / s\n",
    "scale = StandardScaler()\n",
    "df = pd.read_csv('data.csv')\n",
    "X = df[['Weight', 'Volume']]\n",
    "print(\"X\", X)\n",
    "scaledX = scale.fit_transform(X)\n",
    "print(\"ScaledX: \", scaledX)\n",
    "\n",
    "y = df['CO2']\n",
    "\n",
    "# Scaled finis now I train model\n",
    "regr = linear_model.LinearRegression()\n",
    "regr.fit(scaledX, y)\n",
    "\n",
    "# also scaled input data for proper match\n",
    "scaled = scale.transform([[2300, 1.3]])\n",
    "predictedCO2 = regr.predict(scaled)\n",
    "print(\"Predicted CO2: \", predictedCO2)"
   ],
   "id": "1bb2f5211c27c56f",
   "outputs": [
    {
     "name": "stdout",
     "output_type": "stream",
     "text": [
      "X     Weight  Volume\n",
      "0      790    1000\n",
      "1     1160    1200\n",
      "2      929    1000\n",
      "3      865     900\n",
      "4     1140    1500\n",
      "5      929    1000\n",
      "6     1109    1400\n",
      "7     1365    1500\n",
      "8     1112    1500\n",
      "9     1150    1600\n",
      "10     980    1100\n",
      "11     990    1300\n",
      "12    1112    1000\n",
      "13    1252    1600\n",
      "14    1326    1600\n",
      "15    1330    1600\n",
      "16    1365    1600\n",
      "17    1280    2200\n",
      "18    1119    1600\n",
      "19    1328    2000\n",
      "20    1584    1600\n",
      "21    1428    2000\n",
      "22    1365    2100\n",
      "23    1415    1600\n",
      "24    1415    2000\n",
      "25    1465    1500\n",
      "26    1490    2000\n",
      "27    1725    2000\n",
      "28    1523    1600\n",
      "29    1705    2000\n",
      "30    1605    2100\n",
      "31    1746    2000\n",
      "32    1235    1600\n",
      "33    1390    1600\n",
      "34    1405    1600\n",
      "35    1395    2500\n",
      "ScaledX:  [[-2.10389253 -1.59336644]\n",
      " [-0.55407235 -1.07190106]\n",
      " [-1.52166278 -1.59336644]\n",
      " [-1.78973979 -1.85409913]\n",
      " [-0.63784641 -0.28970299]\n",
      " [-1.52166278 -1.59336644]\n",
      " [-0.76769621 -0.55043568]\n",
      " [ 0.3046118  -0.28970299]\n",
      " [-0.7551301  -0.28970299]\n",
      " [-0.59595938 -0.0289703 ]\n",
      " [-1.30803892 -1.33263375]\n",
      " [-1.26615189 -0.81116837]\n",
      " [-0.7551301  -1.59336644]\n",
      " [-0.16871166 -0.0289703 ]\n",
      " [ 0.14125238 -0.0289703 ]\n",
      " [ 0.15800719 -0.0289703 ]\n",
      " [ 0.3046118  -0.0289703 ]\n",
      " [-0.05142797  1.53542584]\n",
      " [-0.72580918 -0.0289703 ]\n",
      " [ 0.14962979  1.01396046]\n",
      " [ 1.2219378  -0.0289703 ]\n",
      " [ 0.5685001   1.01396046]\n",
      " [ 0.3046118   1.27469315]\n",
      " [ 0.51404696 -0.0289703 ]\n",
      " [ 0.51404696  1.01396046]\n",
      " [ 0.72348212 -0.28970299]\n",
      " [ 0.8281997   1.01396046]\n",
      " [ 1.81254495  1.01396046]\n",
      " [ 0.96642691 -0.0289703 ]\n",
      " [ 1.72877089  1.01396046]\n",
      " [ 1.30990057  1.27469315]\n",
      " [ 1.90050772  1.01396046]\n",
      " [-0.23991961 -0.0289703 ]\n",
      " [ 0.40932938 -0.0289703 ]\n",
      " [ 0.47215993 -0.0289703 ]\n",
      " [ 0.4302729   2.31762392]]\n",
      "Predicted CO2:  [97.07204485]\n"
     ]
    },
    {
     "name": "stderr",
     "output_type": "stream",
     "text": [
      "/home/bs00815/Desktop/probability_statistics_and_machine_learning/.venv/lib/python3.12/site-packages/sklearn/utils/validation.py:2739: UserWarning: X does not have valid feature names, but StandardScaler was fitted with feature names\n",
      "  warnings.warn(\n"
     ]
    }
   ],
   "execution_count": 3
  }
 ],
 "metadata": {
  "kernelspec": {
   "display_name": "Python 3",
   "language": "python",
   "name": "python3"
  },
  "language_info": {
   "codemirror_mode": {
    "name": "ipython",
    "version": 2
   },
   "file_extension": ".py",
   "mimetype": "text/x-python",
   "name": "python",
   "nbconvert_exporter": "python",
   "pygments_lexer": "ipython2",
   "version": "2.7.6"
  }
 },
 "nbformat": 4,
 "nbformat_minor": 5
}
