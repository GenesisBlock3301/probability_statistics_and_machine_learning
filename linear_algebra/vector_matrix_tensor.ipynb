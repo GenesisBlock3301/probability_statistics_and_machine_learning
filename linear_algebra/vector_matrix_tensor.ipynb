{
 "cells": [
  {
   "cell_type": "code",
   "id": "initial_id",
   "metadata": {
    "collapsed": true,
    "ExecuteTime": {
     "end_time": "2025-07-07T10:23:53.502475Z",
     "start_time": "2025-07-07T10:23:53.499498Z"
    }
   },
   "source": [
    "# A vector is a 1D array. For example, a list of numbers representing velocity in 3D space: [vx, vy, vz].\n",
    "import numpy as np\n",
    "\n",
    "v = np.array([2, 4, 6, 7, 8])\n",
    "print(\"Vector (1D):\", v)\n",
    "print(\"Shape:\", v.shape)\n",
    "\n"
   ],
   "outputs": [
    {
     "name": "stdout",
     "output_type": "stream",
     "text": [
      "Vector (1D): [2 4 6 7 8]\n",
      "Shape: (5,)\n"
     ]
    }
   ],
   "execution_count": 2
  },
  {
   "metadata": {
    "ExecuteTime": {
     "end_time": "2025-07-07T10:24:24.189494Z",
     "start_time": "2025-07-07T10:24:24.185650Z"
    }
   },
   "cell_type": "code",
   "source": [
    "import numpy as np\n",
    "\n",
    "# A 2x3 matrix\n",
    "M = np.array([\n",
    "    [1, 2, 3],\n",
    "    [4, 5, 6]\n",
    "])\n",
    "print(\"Matrix (2D):\\n\", M)\n",
    "print(\"Shape:\", M.shape)\n"
   ],
   "id": "c40973d38156ee91",
   "outputs": [
    {
     "name": "stdout",
     "output_type": "stream",
     "text": [
      "Matrix (2D):\n",
      " [[1 2 3]\n",
      " [4 5 6]]\n",
      "Shape: (2, 3)\n"
     ]
    }
   ],
   "execution_count": 3
  },
  {
   "metadata": {},
   "cell_type": "code",
   "outputs": [],
   "execution_count": null,
   "source": [
    "# A tensor is a multidimensional array (3D or more). Example: a batch of 2 RGB images (each of size 3×2×2 — 3 channels, 2×2 pixels):\n",
    "import numpy as np\n",
    "\n",
    "\n",
    "\n",
    "# A 3D tensor: batch of 2 images, 3 color channels (RGB), 2x2 pixels\n",
    "T = np.array([\n",
    "    [  # First image\n",
    "        [[255, 0], [0, 255]],     # R channel\n",
    "        [[0, 255], [255, 0]],     # G channel\n",
    "        [[128, 128], [128, 128]]  # B channel\n",
    "    ],\n",
    "    [  # Second image\n",
    "        [[0, 255], [255, 0]],\n",
    "        [[255, 0], [0, 255]],\n",
    "        [[100, 150], [200, 50]]\n",
    "    ]\n",
    "])\n",
    "\n",
    "print(\"Tensor (3D+): shape =\", T.shape)\n"
   ],
   "id": "801535ebfd44175b"
  }
 ],
 "metadata": {
  "kernelspec": {
   "display_name": "Python 3",
   "language": "python",
   "name": "python3"
  },
  "language_info": {
   "codemirror_mode": {
    "name": "ipython",
    "version": 2
   },
   "file_extension": ".py",
   "mimetype": "text/x-python",
   "name": "python",
   "nbconvert_exporter": "python",
   "pygments_lexer": "ipython2",
   "version": "2.7.6"
  }
 },
 "nbformat": 4,
 "nbformat_minor": 5
}
